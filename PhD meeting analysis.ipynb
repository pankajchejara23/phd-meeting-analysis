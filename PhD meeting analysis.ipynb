{
 "cells": [
  {
   "cell_type": "markdown",
   "metadata": {},
   "source": [
    "# PhD Meeting Data Analysis \n",
    "This notebook presents analysis of PhD meeting dataset collected from meetings regularily held in Tallinn University between supervisors and PhD students.\n"
   ]
  },
  {
   "cell_type": "markdown",
   "metadata": {},
   "source": [
    "The analyzed dataset is collected 20th August 2021 using CoTrack tool."
   ]
  },
  {
   "cell_type": "markdown",
   "metadata": {},
   "source": [
    "## Voice Activity Detection Analysis\n",
    "To check the performance of voice activity detection using Python library, I annotated first 20 minutes of audio of PhD student who reported the PhD progress during the meeting.\n",
    "\n",
    "The annotation was done using Praat tool. The following script transform the Praat annotations into format that can be analyzed using pyannote library."
   ]
  },
  {
   "cell_type": "code",
   "execution_count": 202,
   "metadata": {},
   "outputs": [],
   "source": [
    "from pyannote.core import Annotation, Segment\n",
    "import matplotlib.pyplot as plt\n",
    "from pyannote.core import Timeline, Segment\n",
    "from itertools import combinations"
   ]
  },
  {
   "cell_type": "code",
   "execution_count": 255,
   "metadata": {},
   "outputs": [],
   "source": [
    "from pyannote.core import notebook\n",
    "import datetime"
   ]
  },
  {
   "cell_type": "code",
   "execution_count": 46,
   "metadata": {},
   "outputs": [
    {
     "name": "stdout",
     "output_type": "stream",
     "text": [
      "(197, 4)\n",
      "(196, 4)\n"
     ]
    }
   ],
   "source": [
    "import pandas as pd\n",
    "\n",
    "# Trim white spaces from the string\n",
    "def trim_white_newline(string):\n",
    "    new_list = list()\n",
    "    for item in string:\n",
    "        if item == '' or item == '\\n':\n",
    "            pass\n",
    "        else:\n",
    "            new_list.append(item)\n",
    "    return new_list\n",
    "\n",
    "# Open Praat Transcribe File\n",
    "f = open('11_1_172_Final_file_1628860913000_IND_Audio.TextGrid')\n",
    "\n",
    "# Read lines from the file\n",
    "lines = f.readlines()\n",
    "\n",
    "# Create a empty dataframe for storing transcribe data\n",
    "df = pd.DataFrame(columns = [\"start\",\"end\",\"user\"])\n",
    "\n",
    "\n",
    "line_count = 0\n",
    "read_flag = False\n",
    "\n",
    "# Iterate over all lines one by one\n",
    "for line in lines:\n",
    "    #print('processing:',line)\n",
    "    # read flag is true. This flag specify that the next line is the data line.\n",
    "    if read_flag == True:\n",
    "\n",
    "        # Increase line count\n",
    "        line_count = line_count + 1\n",
    "\n",
    "        # Condition to read only three lines. Each data transciption has three lines.\n",
    "        if line_count < 4:\n",
    "            # Split the line using space.\n",
    "            words = line.split(\" \")\n",
    "\n",
    "            # Remove white spaces\n",
    "            words = trim_white_newline(words)\n",
    "\n",
    "            # First token as start time of the frame\n",
    "            if line_count == 1:\n",
    "                start = float(words[2])\n",
    "            # Second token as end time of the frame\n",
    "            if line_count == 2:\n",
    "                end = float(words[2])\n",
    "            # third token as annotatation\n",
    "            if line_count == 3:\n",
    "                user = words[2].strip()\n",
    "                user = user.replace('\"','')\n",
    "                line_count=0\n",
    "                read_flag = False\n",
    "                #print('  added')\n",
    "                # Append data to dataframe\n",
    "                df = df.append({'start':start,'end':end,'user':user},ignore_index = True)\n",
    "\n",
    "    # Condition to check if current line has 'intervals [' string\n",
    "    elif line.find('intervals [')==-1:\n",
    "        pass\n",
    "    else:\n",
    "        read_flag = True\n",
    "\n",
    "# Computer annotated window time\n",
    "df[\"speaking\"] = df[\"end\"] - df[\"start\"]\n",
    "print(df.shape)\n",
    "df.drop(df.tail(1).index,inplace=True)\n",
    "print(df.shape)\n",
    "# Save to csv format.\n",
    "df.to_csv('annotated.csv') "
   ]
  },
  {
   "cell_type": "code",
   "execution_count": 47,
   "metadata": {},
   "outputs": [
    {
     "data": {
      "text/html": [
       "<div>\n",
       "<style scoped>\n",
       "    .dataframe tbody tr th:only-of-type {\n",
       "        vertical-align: middle;\n",
       "    }\n",
       "\n",
       "    .dataframe tbody tr th {\n",
       "        vertical-align: top;\n",
       "    }\n",
       "\n",
       "    .dataframe thead th {\n",
       "        text-align: right;\n",
       "    }\n",
       "</style>\n",
       "<table border=\"1\" class=\"dataframe\">\n",
       "  <thead>\n",
       "    <tr style=\"text-align: right;\">\n",
       "      <th></th>\n",
       "      <th>start</th>\n",
       "      <th>end</th>\n",
       "      <th>user</th>\n",
       "      <th>speaking</th>\n",
       "    </tr>\n",
       "  </thead>\n",
       "  <tbody>\n",
       "    <tr>\n",
       "      <th>0</th>\n",
       "      <td>0.000000</td>\n",
       "      <td>7.615605</td>\n",
       "      <td></td>\n",
       "      <td>7.615605</td>\n",
       "    </tr>\n",
       "    <tr>\n",
       "      <th>1</th>\n",
       "      <td>7.615605</td>\n",
       "      <td>10.181985</td>\n",
       "      <td>-1</td>\n",
       "      <td>2.566380</td>\n",
       "    </tr>\n",
       "    <tr>\n",
       "      <th>2</th>\n",
       "      <td>10.181985</td>\n",
       "      <td>16.573723</td>\n",
       "      <td></td>\n",
       "      <td>6.391738</td>\n",
       "    </tr>\n",
       "    <tr>\n",
       "      <th>3</th>\n",
       "      <td>16.573723</td>\n",
       "      <td>17.154791</td>\n",
       "      <td></td>\n",
       "      <td>0.581067</td>\n",
       "    </tr>\n",
       "    <tr>\n",
       "      <th>4</th>\n",
       "      <td>17.154791</td>\n",
       "      <td>18.074814</td>\n",
       "      <td></td>\n",
       "      <td>0.920023</td>\n",
       "    </tr>\n",
       "    <tr>\n",
       "      <th>...</th>\n",
       "      <td>...</td>\n",
       "      <td>...</td>\n",
       "      <td>...</td>\n",
       "      <td>...</td>\n",
       "    </tr>\n",
       "    <tr>\n",
       "      <th>191</th>\n",
       "      <td>1630.391162</td>\n",
       "      <td>1662.104736</td>\n",
       "      <td></td>\n",
       "      <td>31.713575</td>\n",
       "    </tr>\n",
       "    <tr>\n",
       "      <th>192</th>\n",
       "      <td>1662.104736</td>\n",
       "      <td>1665.736061</td>\n",
       "      <td>-1</td>\n",
       "      <td>3.631325</td>\n",
       "    </tr>\n",
       "    <tr>\n",
       "      <th>193</th>\n",
       "      <td>1665.736061</td>\n",
       "      <td>1669.064776</td>\n",
       "      <td></td>\n",
       "      <td>3.328715</td>\n",
       "    </tr>\n",
       "    <tr>\n",
       "      <th>194</th>\n",
       "      <td>1669.064776</td>\n",
       "      <td>1671.334355</td>\n",
       "      <td>1</td>\n",
       "      <td>2.269578</td>\n",
       "    </tr>\n",
       "    <tr>\n",
       "      <th>195</th>\n",
       "      <td>1671.334355</td>\n",
       "      <td>1675.116985</td>\n",
       "      <td>-1</td>\n",
       "      <td>3.782631</td>\n",
       "    </tr>\n",
       "  </tbody>\n",
       "</table>\n",
       "<p>196 rows × 4 columns</p>\n",
       "</div>"
      ],
      "text/plain": [
       "           start          end user   speaking\n",
       "0       0.000000     7.615605        7.615605\n",
       "1       7.615605    10.181985   -1   2.566380\n",
       "2      10.181985    16.573723        6.391738\n",
       "3      16.573723    17.154791        0.581067\n",
       "4      17.154791    18.074814        0.920023\n",
       "..           ...          ...  ...        ...\n",
       "191  1630.391162  1662.104736       31.713575\n",
       "192  1662.104736  1665.736061   -1   3.631325\n",
       "193  1665.736061  1669.064776        3.328715\n",
       "194  1669.064776  1671.334355    1   2.269578\n",
       "195  1671.334355  1675.116985   -1   3.782631\n",
       "\n",
       "[196 rows x 4 columns]"
      ]
     },
     "execution_count": 47,
     "metadata": {},
     "output_type": "execute_result"
    }
   ],
   "source": [
    "ground_truth = df.copy()\n",
    "ground_truth"
   ]
  },
  {
   "cell_type": "code",
   "execution_count": 48,
   "metadata": {},
   "outputs": [],
   "source": [
    "speak_gd = ground_truth.loc[ground_truth.user=='1',:]"
   ]
  },
  {
   "cell_type": "code",
   "execution_count": 49,
   "metadata": {},
   "outputs": [
    {
     "data": {
      "text/html": [
       "<div>\n",
       "<style scoped>\n",
       "    .dataframe tbody tr th:only-of-type {\n",
       "        vertical-align: middle;\n",
       "    }\n",
       "\n",
       "    .dataframe tbody tr th {\n",
       "        vertical-align: top;\n",
       "    }\n",
       "\n",
       "    .dataframe thead th {\n",
       "        text-align: right;\n",
       "    }\n",
       "</style>\n",
       "<table border=\"1\" class=\"dataframe\">\n",
       "  <thead>\n",
       "    <tr style=\"text-align: right;\">\n",
       "      <th></th>\n",
       "      <th>start</th>\n",
       "      <th>end</th>\n",
       "      <th>user</th>\n",
       "      <th>speaking</th>\n",
       "    </tr>\n",
       "  </thead>\n",
       "  <tbody>\n",
       "    <tr>\n",
       "      <th>5</th>\n",
       "      <td>18.074814</td>\n",
       "      <td>18.801147</td>\n",
       "      <td>1</td>\n",
       "      <td>0.726334</td>\n",
       "    </tr>\n",
       "    <tr>\n",
       "      <th>7</th>\n",
       "      <td>19.479059</td>\n",
       "      <td>20.253815</td>\n",
       "      <td>1</td>\n",
       "      <td>0.774756</td>\n",
       "    </tr>\n",
       "    <tr>\n",
       "      <th>9</th>\n",
       "      <td>31.302242</td>\n",
       "      <td>32.176249</td>\n",
       "      <td>1</td>\n",
       "      <td>0.874007</td>\n",
       "    </tr>\n",
       "    <tr>\n",
       "      <th>15</th>\n",
       "      <td>53.538445</td>\n",
       "      <td>54.058125</td>\n",
       "      <td>1</td>\n",
       "      <td>0.519680</td>\n",
       "    </tr>\n",
       "    <tr>\n",
       "      <th>23</th>\n",
       "      <td>65.697326</td>\n",
       "      <td>66.240628</td>\n",
       "      <td>1</td>\n",
       "      <td>0.543302</td>\n",
       "    </tr>\n",
       "  </tbody>\n",
       "</table>\n",
       "</div>"
      ],
      "text/plain": [
       "        start        end user  speaking\n",
       "5   18.074814  18.801147    1  0.726334\n",
       "7   19.479059  20.253815    1  0.774756\n",
       "9   31.302242  32.176249    1  0.874007\n",
       "15  53.538445  54.058125    1  0.519680\n",
       "23  65.697326  66.240628    1  0.543302"
      ]
     },
     "execution_count": 49,
     "metadata": {},
     "output_type": "execute_result"
    }
   ],
   "source": [
    "speak_gd.head()"
   ]
  },
  {
   "cell_type": "markdown",
   "metadata": {},
   "source": [
    "## Analyzing VAD using python's library\n"
   ]
  },
  {
   "cell_type": "code",
   "execution_count": 101,
   "metadata": {},
   "outputs": [],
   "source": [
    "import collections\n",
    "import contextlib\n",
    "import sys\n",
    "import wave\n",
    "\n",
    "import webrtcvad\n",
    "\n",
    "\n",
    "def read_wave(path):\n",
    "    \"\"\"Reads a .wav file.\n",
    "    Takes the path, and returns (PCM audio data, sample rate).\n",
    "    \"\"\"\n",
    "    with contextlib.closing(wave.open(path, 'rb')) as wf:\n",
    "        num_channels = wf.getnchannels()\n",
    "        assert num_channels == 1\n",
    "        sample_width = wf.getsampwidth()\n",
    "        assert sample_width == 2\n",
    "        sample_rate = wf.getframerate()\n",
    "        assert sample_rate in (8000, 16000, 32000, 48000)\n",
    "        pcm_data = wf.readframes(wf.getnframes())\n",
    "        return pcm_data, sample_rate\n",
    "\n",
    "\n",
    "def write_wave(path, audio, sample_rate):\n",
    "    \"\"\"Writes a .wav file.\n",
    "\n",
    "    Takes path, PCM audio data, and sample rate.\n",
    "    \"\"\"\n",
    "    with contextlib.closing(wave.open(path, 'wb')) as wf:\n",
    "        wf.setnchannels(1)\n",
    "        wf.setsampwidth(2)\n",
    "        wf.setframerate(sample_rate)\n",
    "        wf.writeframes(audio)\n",
    "\n",
    "\n",
    "class Frame(object):\n",
    "    \"\"\"Represents a \"frame\" of audio data.\"\"\"\n",
    "    def __init__(self, bytes, timestamp, duration):\n",
    "        self.bytes = bytes\n",
    "        self.timestamp = timestamp\n",
    "        self.duration = duration\n",
    "\n",
    "\n",
    "def frame_generator(frame_duration_ms, audio, sample_rate):\n",
    "    \"\"\"Generates audio frames from PCM audio data.\n",
    "\n",
    "    Takes the desired frame duration in milliseconds, the PCM data, and\n",
    "    the sample rate.\n",
    "\n",
    "    Yields Frames of the requested duration.\n",
    "    \"\"\"\n",
    "    n = int(sample_rate * (frame_duration_ms / 1000.0) * 2)\n",
    "    offset = 0\n",
    "    timestamp = 0.0\n",
    "    duration = (float(n) / sample_rate) / 2.0\n",
    "    while offset + n < len(audio):\n",
    "        yield Frame(audio[offset:offset + n], timestamp, duration)\n",
    "        timestamp += duration\n",
    "        offset += n\n",
    "\n",
    "\n",
    "def vad_collector(sample_rate, frame_duration_ms,\n",
    "                  padding_duration_ms, vad, frames):\n",
    "    \"\"\"Filters out non-voiced audio frames.\n",
    "\n",
    "    Given a webrtcvad.Vad and a source of audio frames, yields only\n",
    "    the voiced audio.\n",
    "\n",
    "    Uses a padded, sliding window algorithm over the audio frames.\n",
    "    When more than 90% of the frames in the window are voiced (as\n",
    "    reported by the VAD), the collector triggers and begins yielding\n",
    "    audio frames. Then the collector waits until 90% of the frames in\n",
    "    the window are unvoiced to detrigger.\n",
    "\n",
    "    The window is padded at the front and back to provide a small\n",
    "    amount of silence or the beginnings/endings of speech around the\n",
    "    voiced frames.\n",
    "\n",
    "    Arguments:\n",
    "\n",
    "    sample_rate - The audio sample rate, in Hz.\n",
    "    frame_duration_ms - The frame duration in milliseconds.\n",
    "    padding_duration_ms - The amount to pad the window, in milliseconds.\n",
    "    vad - An instance of webrtcvad.Vad.\n",
    "    frames - a source of audio frames (sequence or generator).\n",
    "\n",
    "    Returns: A generator that yields PCM audio data.\n",
    "    \"\"\"\n",
    "    # Create a empty dataframe for storing transcribe data\n",
    "    vad_df = pd.DataFrame(columns = [\"start\",\"end\",\"user\"])\n",
    "    num_padding_frames = int(padding_duration_ms / frame_duration_ms)\n",
    "    # We use a deque for our sliding window/ring buffer.\n",
    "    ring_buffer = collections.deque(maxlen=num_padding_frames)\n",
    "    # We have two states: TRIGGERED and NOTTRIGGERED. We start in the\n",
    "    # NOTTRIGGERED state.\n",
    "    triggered = False\n",
    "\n",
    "    voiced_frames = []\n",
    "    for frame in frames:\n",
    "        is_speech = vad.is_speech(frame.bytes, sample_rate)\n",
    "\n",
    "        #sys.stdout.write('1' if is_speech else '0')\n",
    "        if not triggered:\n",
    "            ring_buffer.append((frame, is_speech))\n",
    "            num_voiced = len([f for f, speech in ring_buffer if speech])\n",
    "            # If we're NOTTRIGGERED and more than 90% of the frames in\n",
    "            # the ring buffer are voiced frames, then enter the\n",
    "            # TRIGGERED state.\n",
    "            if num_voiced > 0.9 * ring_buffer.maxlen:\n",
    "                triggered = True\n",
    "                start = ring_buffer[0][0].timestamp\n",
    "                #sys.stdout.write('Timestamp:(%s)' % (ring_buffer[0][0].timestamp,))\n",
    "                # We want to yield all the audio we see from now until\n",
    "                # we are NOTTRIGGERED, but we have to start with the\n",
    "                # audio that's already in the ring buffer.\n",
    "                for f, s in ring_buffer:\n",
    "                    voiced_frames.append(f)\n",
    "                ring_buffer.clear()\n",
    "        else:\n",
    "            # We're in the TRIGGERED state, so collect the audio data\n",
    "            # and add it to the ring buffer.\n",
    "            voiced_frames.append(frame)\n",
    "            ring_buffer.append((frame, is_speech))\n",
    "            num_unvoiced = len([f for f, speech in ring_buffer if not speech])\n",
    "            # If more than 90% of the frames in the ring buffer are\n",
    "            # unvoiced, then enter NOTTRIGGERED and yield whatever\n",
    "            # audio we've collected.\n",
    "            if num_unvoiced > 0.9 * ring_buffer.maxlen:\n",
    "                end = ring_buffer[0][0].timestamp\n",
    "                #sys.stdout.write('End:(%s)' % (frame.timestamp + frame.duration))\n",
    "                triggered = False\n",
    "                #yield b''.join([f.bytes for f in voiced_frames])\n",
    "                ring_buffer.clear()\n",
    "                vad_df = vad_df.append({'start':start,'end':end,'user':user},ignore_index = True)\n",
    "                voiced_frames = []\n",
    "    if triggered:\n",
    "        sys.stdout.write('-(%s)' % (frame.timestamp + frame.duration))\n",
    "    #sys.stdout.write('\\n')\n",
    "    # If we have any leftover voiced audio when we run out of input,\n",
    "    # yield it.\n",
    "    return vad_df\n",
    "\n",
    "\n",
    "\n",
    "vad = webrtcvad.Vad(3)   \n",
    "audio, sample_rate = read_wave('./11_1_172_Final_file_1628860913000_IND_Audio.wav')\n",
    "\n",
    "frames = frame_generator(30, audio, sample_rate)\n",
    "frames = list(frames)\n",
    "segments = vad_collector(sample_rate, 20, 300, vad, frames)\n"
   ]
  },
  {
   "cell_type": "code",
   "execution_count": 102,
   "metadata": {},
   "outputs": [],
   "source": [
    "# Shashi audio vad analysis\n",
    "shashi_audio,sample_rate = read_wave('./11_1_172_Final_file_1628860913000_IND_Audio.wav')\n",
    "frames = frame_generator(30, shashi_audio, sample_rate)\n",
    "frames = list(frames)\n",
    "shashi_segments = vad_collector(sample_rate, 20, 300, vad, frames)"
   ]
  },
  {
   "cell_type": "code",
   "execution_count": 104,
   "metadata": {},
   "outputs": [],
   "source": [
    "# Pankaj audio vad analysis\n",
    "pankaj_audio,sample_rate = read_wave('./11_1_1_Final_file_1628859941379_IND_Audio.wav')\n",
    "frames = frame_generator(30, pankaj_audio, sample_rate)\n",
    "frames = list(frames)\n",
    "pankaj_segments = vad_collector(sample_rate, 20, 300, vad, frames)"
   ]
  },
  {
   "cell_type": "code",
   "execution_count": 105,
   "metadata": {},
   "outputs": [],
   "source": [
    "# Luis audio vad analysis\n",
    "luis_audio,sample_rate = read_wave('./11_1_153_Final_file_1628860913138_IND_Audio.wav')\n",
    "frames = frame_generator(30, luis_audio, sample_rate)\n",
    "frames = list(frames)\n",
    "luis_segments = vad_collector(sample_rate, 20, 300, vad, frames)"
   ]
  },
  {
   "cell_type": "code",
   "execution_count": 106,
   "metadata": {},
   "outputs": [],
   "source": [
    "# Chus audio vad analysis\n",
    "chus_audio,sample_rate = read_wave('./11_1_155_Final_file_1628859613760_IND_Audio.wav')\n",
    "frames = frame_generator(30, chus_audio, sample_rate)\n",
    "frames = list(frames)\n",
    "chus_segments = vad_collector(sample_rate, 20, 300, vad, frames)"
   ]
  },
  {
   "cell_type": "code",
   "execution_count": 57,
   "metadata": {},
   "outputs": [
    {
     "data": {
      "text/plain": [
       "(360, 3)"
      ]
     },
     "execution_count": 57,
     "metadata": {},
     "output_type": "execute_result"
    }
   ],
   "source": [
    "segments.shape"
   ]
  },
  {
   "cell_type": "code",
   "execution_count": 58,
   "metadata": {},
   "outputs": [],
   "source": [
    "vad_segments= segments.loc[segments.start < 1676,:]"
   ]
  },
  {
   "cell_type": "code",
   "execution_count": 59,
   "metadata": {},
   "outputs": [
    {
     "data": {
      "text/html": [
       "<div>\n",
       "<style scoped>\n",
       "    .dataframe tbody tr th:only-of-type {\n",
       "        vertical-align: middle;\n",
       "    }\n",
       "\n",
       "    .dataframe tbody tr th {\n",
       "        vertical-align: top;\n",
       "    }\n",
       "\n",
       "    .dataframe thead th {\n",
       "        text-align: right;\n",
       "    }\n",
       "</style>\n",
       "<table border=\"1\" class=\"dataframe\">\n",
       "  <thead>\n",
       "    <tr style=\"text-align: right;\">\n",
       "      <th></th>\n",
       "      <th>start</th>\n",
       "      <th>end</th>\n",
       "      <th>user</th>\n",
       "    </tr>\n",
       "  </thead>\n",
       "  <tbody>\n",
       "    <tr>\n",
       "      <th>0</th>\n",
       "      <td>7.86</td>\n",
       "      <td>8.43</td>\n",
       "      <td></td>\n",
       "    </tr>\n",
       "    <tr>\n",
       "      <th>1</th>\n",
       "      <td>9.27</td>\n",
       "      <td>9.72</td>\n",
       "      <td></td>\n",
       "    </tr>\n",
       "    <tr>\n",
       "      <th>2</th>\n",
       "      <td>18.21</td>\n",
       "      <td>18.66</td>\n",
       "      <td></td>\n",
       "    </tr>\n",
       "    <tr>\n",
       "      <th>3</th>\n",
       "      <td>19.56</td>\n",
       "      <td>20.01</td>\n",
       "      <td></td>\n",
       "    </tr>\n",
       "    <tr>\n",
       "      <th>4</th>\n",
       "      <td>31.41</td>\n",
       "      <td>32.25</td>\n",
       "      <td></td>\n",
       "    </tr>\n",
       "  </tbody>\n",
       "</table>\n",
       "</div>"
      ],
      "text/plain": [
       "   start    end user\n",
       "0   7.86   8.43     \n",
       "1   9.27   9.72     \n",
       "2  18.21  18.66     \n",
       "3  19.56  20.01     \n",
       "4  31.41  32.25     "
      ]
     },
     "execution_count": 59,
     "metadata": {},
     "output_type": "execute_result"
    }
   ],
   "source": [
    "vad_segments.head()"
   ]
  },
  {
   "cell_type": "code",
   "execution_count": 82,
   "metadata": {},
   "outputs": [],
   "source": [
    "vad_seg_an = Annotation()\n"
   ]
  },
  {
   "cell_type": "code",
   "execution_count": 83,
   "metadata": {},
   "outputs": [],
   "source": [
    "for i in range(vad_segments.shape[0]):\n",
    "    record = vad_segments.loc[i,:]\n",
    "    vad_seg_an[Segment(record['start'], record['end']), '_'] = 'pyvad'"
   ]
  },
  {
   "cell_type": "code",
   "execution_count": 84,
   "metadata": {},
   "outputs": [],
   "source": [
    "gd_an = Annotation()\n",
    "speak_gd.reset_index(inplace=True)"
   ]
  },
  {
   "cell_type": "code",
   "execution_count": 85,
   "metadata": {},
   "outputs": [],
   "source": [
    "for i in range(speak_gd.shape[0]):\n",
    "    record = speak_gd.loc[i,:]\n",
    "    gd_an[Segment(record['start'], record['end']), '_'] = 'gd'"
   ]
  },
  {
   "cell_type": "code",
   "execution_count": 203,
   "metadata": {},
   "outputs": [
    {
     "data": {
      "image/png": "[encoded data removed]",
      "text/plain": [
       "<pyannote.core.annotation.Annotation at 0x7f93f5479340>"
      ]
     },
     "execution_count": 203,
     "metadata": {},
     "output_type": "execute_result"
    }
   ],
   "source": [
    "vad_seg_an"
   ]
  },
  {
   "cell_type": "code",
   "execution_count": 221,
   "metadata": {},
   "outputs": [
    {
     "data": {
      "image/png": "[encoded data removed]",
      "text/plain": [
       "<pyannote.core.annotation.Annotation at 0x7f93f5479460>"
      ]
     },
     "execution_count": 221,
     "metadata": {},
     "output_type": "execute_result"
    }
   ],
   "source": [
    "gd_an"
   ]
  },
  {
   "cell_type": "code",
   "execution_count": 89,
   "metadata": {},
   "outputs": [],
   "source": [
    "from pyannote.metrics import detection"
   ]
  },
  {
   "cell_type": "code",
   "execution_count": 90,
   "metadata": {},
   "outputs": [],
   "source": [
    "det_acc = detection.DetectionAccuracy()\n",
    "det_err = detection.DetectionErrorRate()\n",
    "det_cf = detection.DetectionCostFunction()"
   ]
  },
  {
   "cell_type": "code",
   "execution_count": 94,
   "metadata": {},
   "outputs": [
    {
     "name": "stdout",
     "output_type": "stream",
     "text": [
      "Detection accuracy: 0.9443070805453685\n",
      "Detection error rate: 0.25243702478729363\n",
      "Detection cost function: 0.061424020959540235\n"
     ]
    }
   ],
   "source": [
    "print('Detection accuracy:',det_acc.compute_metric(det_acc.compute_components(vad_seg_an,gd_an)))\n",
    "print('Detection error rate:',det_err.compute_metric(det_err.compute_components(vad_seg_an,gd_an)))\n",
    "print('Detection cost function:',det_cf.compute_metric(det_cf.compute_components(vad_seg_an,gd_an)))"
   ]
  },
  {
   "cell_type": "markdown",
   "metadata": {},
   "source": [
    "## Analysis of VAD for all participants"
   ]
  },
  {
   "cell_type": "code",
   "execution_count": 110,
   "metadata": {},
   "outputs": [],
   "source": [
    "\n",
    "\n",
    "all_an = Annotation()\n",
    "for i in range(shashi_segments.shape[0]):\n",
    "    record = shashi_segments.loc[i,:]\n",
    "    all_an[Segment(record['start'], record['end']), '1'] = 'shashi'\n",
    "for i in range(luis_segments.shape[0]):\n",
    "    record = luis_segments.loc[i,:]\n",
    "    all_an[Segment(record['start'], record['end']), '2'] = 'luis'\n",
    "for i in range(pankaj_segments.shape[0]):\n",
    "    record = pankaj_segments.loc[i,:]\n",
    "    all_an[Segment(record['start'], record['end']), '3'] = 'pankaj'\n",
    "for i in range(chus_segments.shape[0]):\n",
    "    record = chus_segments.loc[i,:]\n",
    "    all_an[Segment(record['start'], record['end']), '4'] = 'chus'"
   ]
  },
  {
   "cell_type": "code",
   "execution_count": 116,
   "metadata": {},
   "outputs": [],
   "source": [
    "chart = all_an.chart(percent=True)"
   ]
  },
  {
   "cell_type": "code",
   "execution_count": 125,
   "metadata": {},
   "outputs": [],
   "source": [
    "x = [i for i in range(len(chart))]\n",
    "labels = [i[0] for i in chart]"
   ]
  },
  {
   "cell_type": "code",
   "execution_count": 128,
   "metadata": {},
   "outputs": [
    {
     "data": {
      "image/png": "[encoded data removed]",
      "text/plain": [
       "<Figure size 432x288 with 1 Axes>"
      ]
     },
     "metadata": {
      "needs_background": "light"
     },
     "output_type": "display_data"
    }
   ],
   "source": [
    "plt.bar(x,[i[1] for i in chart])\n",
    "plt.xticks(x, labels, rotation='vertical')\n",
    "plt.show()"
   ]
  },
  {
   "cell_type": "code",
   "execution_count": 129,
   "metadata": {},
   "outputs": [
    {
     "data": {
      "image/png": "[encoded data removed]",
      "text/plain": [
       "<pyannote.core.annotation.Annotation at 0x7f933af59f40>"
      ]
     },
     "execution_count": 129,
     "metadata": {},
     "output_type": "execute_result"
    }
   ],
   "source": [
    "all_an"
   ]
  },
  {
   "cell_type": "code",
   "execution_count": null,
   "metadata": {},
   "outputs": [],
   "source": []
  },
  {
   "cell_type": "markdown",
   "metadata": {},
   "source": [
    "In above figure, voice activity for pankaj is wrongly detected. Actually, there was a person speaking however that was detected for pankaj's voice. This is the case which highlight the issue with voice activity-based detection methods."
   ]
  },
  {
   "cell_type": "code",
   "execution_count": 131,
   "metadata": {},
   "outputs": [],
   "source": [
    "t = all_an.get_timeline()"
   ]
  },
  {
   "cell_type": "code",
   "execution_count": 139,
   "metadata": {},
   "outputs": [
    {
     "name": "stdout",
     "output_type": "stream",
     "text": [
      "[ 00:09:58.710 -->  00:10:00.270] [ 00:09:59.700 -->  00:10:02.220]\n"
     ]
    }
   ],
   "source": [
    "a,b = t.overlapping(600)\n",
    "print(a,b)"
   ]
  },
  {
   "cell_type": "code",
   "execution_count": 193,
   "metadata": {},
   "outputs": [],
   "source": [
    "timelines = {}\n",
    "timelines['luis'] = all_an.label_timeline('luis')\n",
    "timelines['pankaj'] = all_an.label_timeline('pankaj')\n",
    "timelines['shashi'] = all_an.label_timeline('shashi')\n",
    "timelines['chus'] = all_an.label_timeline('chus')\n"
   ]
  },
  {
   "cell_type": "code",
   "execution_count": 208,
   "metadata": {},
   "outputs": [
    {
     "name": "stdout",
     "output_type": "stream",
     "text": [
      "luis_pankaj\n",
      "luis_chus\n",
      "luis_shashi\n",
      "pankaj_chus\n",
      "pankaj_shashi\n",
      "chus_shashi\n"
     ]
    }
   ],
   "source": [
    "# luis pankaj overlap\n",
    "overlap_all = Annotation()\n",
    "overlap_annotations = {}\n",
    "for group in combinations(['luis','pankaj','chus','shashi'],2):\n",
    "    key = '_'.join(group)\n",
    "    print(key)\n",
    "    if key not in overlap_annotations.keys():\n",
    "        overlap_annotations[key] = Annotation()\n",
    "    for seg1,seg2 in timelines[group[0]].co_iter(timelines[group[1]]):\n",
    "        inter = seg1 & seg2\n",
    "        overlap_annotations[key][inter] = key\n",
    "        overlap_all[inter] = key\n",
    "        timeline.add(inter)\n",
    "   "
   ]
  },
  {
   "cell_type": "code",
   "execution_count": 204,
   "metadata": {},
   "outputs": [
    {
     "data": {
      "image/png": "[encoded data removed]",
      "text/plain": [
       "<pyannote.core.annotation.Annotation at 0x7f938737e190>"
      ]
     },
     "execution_count": 204,
     "metadata": {},
     "output_type": "execute_result"
    }
   ],
   "source": [
    "overlap_annotations['luis_shashi']"
   ]
  },
  {
   "cell_type": "code",
   "execution_count": 205,
   "metadata": {},
   "outputs": [
    {
     "data": {
      "image/png": "[encoded data removed]",
      "text/plain": [
       "<pyannote.core.annotation.Annotation at 0x7f938737e070>"
      ]
     },
     "execution_count": 205,
     "metadata": {},
     "output_type": "execute_result"
    }
   ],
   "source": [
    "overlap_annotations['luis_chus']"
   ]
  },
  {
   "cell_type": "code",
   "execution_count": 206,
   "metadata": {},
   "outputs": [
    {
     "data": {
      "image/png": "[encoded data removed]",
      "text/plain": [
       "<pyannote.core.annotation.Annotation at 0x7f9386e05190>"
      ]
     },
     "execution_count": 206,
     "metadata": {},
     "output_type": "execute_result"
    }
   ],
   "source": [
    "overlap_annotations['pankaj_chus']"
   ]
  },
  {
   "cell_type": "code",
   "execution_count": 207,
   "metadata": {},
   "outputs": [
    {
     "data": {
      "image/png": "[encoded data removed]",
      "text/plain": [
       "<pyannote.core.annotation.Annotation at 0x7f938675da90>"
      ]
     },
     "execution_count": 207,
     "metadata": {},
     "output_type": "execute_result"
    }
   ],
   "source": [
    "overlap_annotations['chus_shashi']"
   ]
  },
  {
   "cell_type": "code",
   "execution_count": 209,
   "metadata": {},
   "outputs": [
    {
     "data": {
      "image/png": "[encoded data removed]",
      "text/plain": [
       "<pyannote.core.annotation.Annotation at 0x7f9364d44490>"
      ]
     },
     "execution_count": 209,
     "metadata": {},
     "output_type": "execute_result"
    }
   ],
   "source": [
    "overlap_all"
   ]
  },
  {
   "cell_type": "code",
   "execution_count": 227,
   "metadata": {},
   "outputs": [
    {
     "data": {
      "image/png": "[encoded data removed]",
      "text/plain": [
       "<Timeline(uri=None, segments=[<Segment(0.87, 6.24)>, <Segment(6.93, 10.44)>, <Segment(7.86, 8.61)>, <Segment(10.95, 11.79)>, <Segment(12.57, 15.84)>, <Segment(18.21, 18.66)>, <Segment(18.6, 19.56)>, <Segment(19.56, 20.01)>, <Segment(21, 23.82)>, <Segment(26.55, 27.36)>, <Segment(28.35, 31.35)>, <Segment(29.82, 31.8)>, <Segment(31.41, 32.22)>, <Segment(32.13, 32.88)>, <Segment(33.12, 33.93)>, <Segment(34.41, 39.78)>, <Segment(40.38, 42.3)>, <Segment(42.93, 48.06)>, <Segment(49.74, 50.55)>, <Segment(51, 53.28)>, <Segment(54.33, 57.51)>, <Segment(58.47, 63.75)>, <Segment(65.76, 66.21)>, <Segment(67.29, 68.1)>, <Segment(69.18, 69.87)>, <Segment(70.92, 76.68)>, <Segment(77.28, 78.48)>, <Segment(79.56, 82.02)>, <Segment(83.16, 85.86)>, <Segment(86.31, 90.18)>, <Segment(90.84, 98.1)>, <Segment(98.73, 100.62)>, <Segment(101.1, 102.63)>, <Segment(103.26, 104.37)>, <Segment(105.06, 107.1)>, <Segment(107.55, 112.41)>, <Segment(112.56, 113.07)>, <Segment(113.07, 116.97)>, <Segment(117.42, 118.17)>, <Segment(121.2, 122.79)>, <Segment(123.48, 124.59)>, <Segment(126.24, 127.17)>, <Segment(129.69, 134.37)>, <Segment(138.21, 141.33)>, <Segment(139.74, 140.73)>, <Segment(147.57, 148.44)>, <Segment(150.33, 150.87)>, <Segment(171.24, 172.38)>, <Segment(176.88, 177.42)>, <Segment(178.71, 181.32)>, <Segment(184.35, 185.34)>, <Segment(185.82, 188.49)>, <Segment(188.34, 188.85)>, <Segment(189.78, 194.61)>, <Segment(193.47, 193.95)>, <Segment(195.12, 197.82)>, <Segment(198.15, 198.63)>, <Segment(198.36, 203.16)>, <Segment(204.03, 204.51)>, <Segment(204.54, 210.72)>, <Segment(211.59, 212.52)>, <Segment(212.94, 213.39)>, <Segment(214.2, 217.14)>, <Segment(217.86, 218.79)>, <Segment(219.57, 221.49)>, <Segment(222.45, 226.44)>, <Segment(223.05, 223.53)>, <Segment(227.46, 230.73)>, <Segment(231.72, 232.98)>, <Segment(233.76, 234.21)>, <Segment(234.24, 236.13)>, <Segment(237.03, 238.95)>, <Segment(239.4, 242.07)>, <Segment(240.99, 241.47)>, <Segment(242.25, 242.73)>, <Segment(242.67, 245.16)>, <Segment(245.64, 249.87)>, <Segment(250.32, 251.58)>, <Segment(252.51, 255.42)>, <Segment(256.32, 259.8)>, <Segment(261.87, 264.6)>, <Segment(265.71, 269.04)>, <Segment(269.61, 270.12)>, <Segment(272.52, 281.34)>, <Segment(282.36, 282.81)>, <Segment(283.59, 287.85)>, <Segment(290.88, 292.29)>, <Segment(293.7, 299.85)>, <Segment(300.9, 301.83)>, <Segment(301.38, 302.85)>, <Segment(304.89, 307.29)>, <Segment(308.1, 309.06)>, <Segment(309.63, 312.18)>, <Segment(312.39, 313.89)>, <Segment(314.04, 317.91)>, <Segment(318.15, 318.63)>, <Segment(318.72, 323.43)>, <Segment(323.91, 324.48)>, <Segment(325.8, 329.67)>, <Segment(330.39, 332.01)>, <Segment(332.58, 338.94)>, <Segment(340.05, 349.62)>, <Segment(352.05, 356.88)>, <Segment(357.39, 357.84)>, <Segment(357.84, 361.98)>, <Segment(364.05, 365.25)>, <Segment(365.88, 366.33)>, <Segment(367.77, 372)>, <Segment(373.68, 374.82)>, <Segment(374.31, 375.06)>, <Segment(376.08, 379.08)>, <Segment(381.96, 387.84)>, <Segment(389.61, 391.86)>, <Segment(392.55, 394.68)>, <Segment(394.77, 395.22)>, <Segment(395.13, 397.71)>, <Segment(397.8, 398.31)>, <Segment(400.2, 402.87)>, <Segment(403.44, 407.07)>, <Segment(407.13, 408.15)>, <Segment(409.11, 410.01)>, <Segment(410.28, 416.64)>, <Segment(410.46, 411.78)>, <Segment(418.23, 422.64)>, <Segment(420.12, 421.29)>, <Segment(423.63, 426.48)>, <Segment(423.9, 424.83)>, <Segment(427.02, 428.55)>, <Segment(430.14, 433.77)>, <Segment(434.4, 437.7)>, <Segment(438.3, 438.75)>, <Segment(439.11, 439.56)>, <Segment(440.01, 440.46)>, <Segment(440.82, 448.29)>, <Segment(449.7, 452.25)>, <Segment(452.73, 455.82)>, <Segment(456.81, 459.99)>, <Segment(461.07, 465.09)>, <Segment(470.22, 476.76)>, <Segment(477.24, 480.96)>, <Segment(481.8, 488.79)>, <Segment(489.99, 491.49)>, <Segment(491.22, 491.79)>, <Segment(492.15, 497.64)>, <Segment(498.57, 502.53)>, <Segment(499.59, 500.55)>, <Segment(503.64, 505.44)>, <Segment(506.1, 506.76)>, <Segment(508.05, 511.44)>, <Segment(511.95, 512.91)>, <Segment(512.25, 514.26)>, <Segment(513.48, 514.56)>, <Segment(515.46, 516.3)>, <Segment(515.97, 517.23)>, <Segment(517.38, 517.86)>, <Segment(518.28, 519.54)>, <Segment(518.34, 519.15)>, <Segment(520.11, 525.45)>, <Segment(520.2, 521.97)>, <Segment(522.69, 528.3)>, <Segment(523.26, 523.74)>, <Segment(528.33, 532.05)>, <Segment(529.17, 530.31)>, <Segment(531.84, 535.77)>, <Segment(532.56, 536.67)>, <Segment(536.52, 537.99)>, <Segment(540.18, 542.7)>, <Segment(542.55, 543.66)>, <Segment(544.86, 545.49)>, <Segment(546.96, 549.06)>, <Segment(548.73, 549.18)>, <Segment(549.75, 553.2)>, <Segment(552.75, 553.92)>, <Segment(553.77, 558.57)>, <Segment(558.24, 559.14)>, <Segment(559.32, 559.89)>, <Segment(560.13, 560.58)>, <Segment(560.43, 560.88)>, <Segment(560.43, 562.83)>, <Segment(562.05, 563.04)>, <Segment(563.49, 565.53)>, <Segment(563.61, 568.56)>, <Segment(566.46, 572.61)>, <Segment(569.19, 570.81)>, <Segment(571.83, 573.48)>, <Segment(574.95, 575.64)>, <Segment(576.39, 580.68)>, <Segment(577.47, 582.27)>, <Segment(581.46, 585.87)>, <Segment(584.31, 586.17)>, <Segment(584.88, 586.53)>, <Segment(586.35, 590.31)>, <Segment(587.16, 587.7)>, <Segment(588.72, 591.69)>, <Segment(591.3, 595.2)>, <Segment(592.47, 593.16)>, <Segment(593.64, 598.71)>, <Segment(596.4, 597.69)>, <Segment(598.71, 600.27)>, <Segment(599.7, 602.22)>, <Segment(600.9, 601.74)>, <Segment(603.42, 604.44)>, <Segment(604.8, 606.69)>, <Segment(604.89, 608.37)>, <Segment(608.22, 608.7)>, <Segment(609.27, 612.9)>, <Segment(613.95, 616.53)>, <Segment(617.13, 619.32)>, <Segment(620.31, 621.54)>, <Segment(621.36, 621.84)>, <Segment(622.59, 626.94)>, <Segment(628.74, 632.13)>, <Segment(632.82, 634.38)>, <Segment(633.24, 633.93)>, <Segment(635.1, 635.64)>, <Segment(635.43, 637.65)>, <Segment(636.33, 636.78)>, <Segment(638.31, 638.76)>, <Segment(638.55, 639.33)>, <Segment(639.99, 640.59)>, <Segment(642.15, 642.69)>, <Segment(642.3, 643.53)>, <Segment(643.32, 647.64)>, <Segment(644.25, 644.7)>, <Segment(646.95, 647.46)>, <Segment(648.36, 652.26)>, <Segment(649.17, 650.07)>, <Segment(649.47, 650.43)>, <Segment(651.45, 652.29)>, <Segment(651.78, 656.1)>, <Segment(652.95, 654.09)>, <Segment(654.72, 657.69)>, <Segment(657.48, 659.13)>, <Segment(658.77, 665.13)>, <Segment(660.48, 661.2)>, <Segment(662.34, 669.54)>, <Segment(666, 671.73)>, <Segment(670.62, 680.64)>, <Segment(672.18, 673.35)>, <Segment(674.67, 680.43)>, <Segment(681.12, 686.67)>, <Segment(681.24, 681.69)>, <Segment(682.56, 685.95)>, <Segment(687.21, 731.55)>, <Segment(687.42, 687.99)>, <Segment(696.48, 697.65)>, <Segment(700.59, 701.52)>, <Segment(711.6, 714.78)>, <Segment(716.97, 717.87)>, <Segment(723.39, 725.94)>, <Segment(728.19, 728.91)>, <Segment(732.42, 739.02)>, <Segment(739.65, 744.51)>, <Segment(744.96, 747.51)>, <Segment(747.99, 753.84)>, <Segment(748.5, 748.95)>, <Segment(754.38, 760.32)>, <Segment(755.91, 756.36)>, <Segment(761.25, 762.6)>, <Segment(765.66, 767.4)>, <Segment(769.08, 770.28)>, <Segment(770.79, 785.37)>, <Segment(772.95, 773.85)>, <Segment(774.99, 776.1)>, <Segment(785.91, 798.27)>, <Segment(799.14, 832.29)>, <Segment(809.46, 810.06)>, <Segment(820.44, 821.25)>, <Segment(822.18, 826.35)>, <Segment(833.13, 876.12)>, <Segment(857.22, 857.76)>, <Segment(876.66, 882.39)>, <Segment(882.84, 885.57)>, <Segment(887.22, 890.82)>, <Segment(891.51, 899.82)>, <Segment(900.27, 903.18)>, <Segment(903.63, 905.01)>, <Segment(904.2, 904.74)>, <Segment(908.49, 909.24)>, <Segment(911.01, 912.12)>, <Segment(912.93, 915.36)>, <Segment(916.05, 919.23)>, <Segment(916.17, 916.62)>, <Segment(920.91, 924.39)>, <Segment(925.53, 931.83)>, <Segment(933.09, 938.37)>, <Segment(938.88, 941.07)>, <Segment(941.7, 942.15)>, <Segment(942.39, 943.5)>, <Segment(947.4, 949.2)>, <Segment(950.13, 954.12)>, <Segment(955.17, 955.65)>, <Segment(956.22, 959.04)>, <Segment(959.58, 961.92)>, <Segment(960.78, 962.04)>, <Segment(962.7, 963.69)>, <Segment(964.53, 965.31)>, <Segment(965.76, 970.98)>, <Segment(972.48, 973.41)>, <Segment(973.86, 974.73)>, <Segment(975.18, 977.76)>, <Segment(979.47, 979.92)>, <Segment(979.68, 981.99)>, <Segment(982.47, 983.97)>, <Segment(984.06, 986.88)>, <Segment(988.62, 989.28)>, <Segment(990.09, 991.47)>, <Segment(991.92, 994.68)>, <Segment(995.73, 997.65)>, <Segment(998.22, 1004.22)>, <Segment(1003.8, 1004.97)>, <Segment(1004.43, 1004.88)>, <Segment(1005.24, 1005.81)>, <Segment(1006.95, 1009.32)>, <Segment(1009.89, 1011.3)>, <Segment(1011.9, 1014.09)>, <Segment(1014.54, 1017.96)>, <Segment(1016.73, 1020.87)>, <Segment(1019.73, 1021.14)>, <Segment(1021.53, 1022.4)>, <Segment(1021.89, 1028.16)>, <Segment(1024.11, 1024.71)>, <Segment(1026.42, 1026.87)>, <Segment(1027.71, 1029.57)>, <Segment(1030.17, 1031.94)>, <Segment(1031.13, 1033.29)>, <Segment(1032.66, 1034.19)>, <Segment(1035.06, 1035.69)>, <Segment(1037.19, 1042.02)>, <Segment(1037.34, 1038.03)>, <Segment(1038.96, 1041.12)>, <Segment(1039.05, 1039.89)>, <Segment(1041.18, 1041.63)>, <Segment(1041.63, 1042.5)>, <Segment(1044.39, 1045.17)>, <Segment(1045.56, 1046.52)>, <Segment(1046.49, 1047.78)>, <Segment(1046.52, 1048.29)>, <Segment(1047.39, 1049.85)>, <Segment(1051.26, 1052.73)>, <Segment(1052.52, 1053.69)>, <Segment(1053.24, 1056.33)>, <Segment(1058.61, 1061.19)>, <Segment(1059.63, 1060.08)>, <Segment(1060.38, 1063.41)>, <Segment(1063.26, 1064.64)>, <Segment(1064.58, 1068.36)>, <Segment(1068.9, 1071.57)>, <Segment(1072.53, 1073.79)>, <Segment(1073.13, 1076.22)>, <Segment(1075.65, 1076.19)>, <Segment(1076.76, 1077.69)>, <Segment(1077.78, 1079.85)>, <Segment(1079.43, 1082.19)>, <Segment(1082.82, 1084.23)>, <Segment(1085.37, 1086.99)>, <Segment(1085.67, 1088.67)>, <Segment(1089.33, 1090.44)>, <Segment(1091.13, 1092.9)>, <Segment(1093.05, 1093.89)>, <Segment(1093.41, 1097.82)>, <Segment(1096.62, 1097.64)>, <Segment(1098.09, 1101)>, <Segment(1098.78, 1101.3)>, <Segment(1102.74, 1103.49)>, <Segment(1104.69, 1105.83)>, <Segment(1107.27, 1112.85)>, <Segment(1110.36, 1110.99)>, <Segment(1112.16, 1117.59)>, <Segment(1115.07, 1118.01)>, <Segment(1119.57, 1121.82)>, <Segment(1123.02, 1124.31)>, <Segment(1125, 1129.8)>, <Segment(1126.8, 1127.25)>, <Segment(1130.4, 1135.77)>, <Segment(1134.84, 1136.1)>, <Segment(1135.35, 1136.67)>, <Segment(1136.61, 1140.78)>, <Segment(1138.62, 1139.76)>, <Segment(1141.62, 1145.79)>, <Segment(1147.05, 1149.57)>, <Segment(1150.38, 1152.33)>, <Segment(1152.78, 1157.55)>, <Segment(1158.3, 1162.02)>, <Segment(1160.07, 1160.58)>, <Segment(1162.59, 1163.97)>, <Segment(1164.78, 1172.73)>, <Segment(1165.41, 1166.31)>, <Segment(1167.39, 1168.02)>, <Segment(1168.98, 1171.41)>, <Segment(1173.33, 1174.89)>, <Segment(1175.43, 1178.37)>, <Segment(1180.32, 1182.75)>, <Segment(1185.39, 1187.19)>, <Segment(1185.87, 1188.15)>, <Segment(1188.39, 1189.62)>, <Segment(1188.6, 1190.1)>, <Segment(1190.82, 1191.39)>, <Segment(1191.06, 1192.2)>, <Segment(1191.6, 1193.76)>, <Segment(1193.7, 1196.7)>, <Segment(1197.45, 1203.15)>, <Segment(1198.59, 1199.1)>, <Segment(1204.02, 1205.7)>, <Segment(1205.04, 1206.21)>, <Segment(1206.24, 1207.5)>, <Segment(1208.43, 1208.88)>, <Segment(1209.21, 1211.34)>, <Segment(1210.47, 1212.33)>, <Segment(1211.82, 1216.98)>, <Segment(1214.91, 1216.08)>, <Segment(1216.68, 1217.28)>, <Segment(1218.09, 1219.62)>, <Segment(1218.51, 1226.37)>, <Segment(1221.66, 1223.31)>, <Segment(1224.18, 1224.63)>, <Segment(1226.88, 1227.6)>, <Segment(1227.78, 1235.58)>, <Segment(1228.8, 1229.25)>, <Segment(1236.09, 1247.25)>, <Segment(1242.03, 1242.75)>, <Segment(1248.39, 1254)>, <Segment(1254.36, 1257.63)>, <Segment(1254.63, 1256.76)>, <Segment(1260.09, 1265.7)>, <Segment(1267.8, 1271.73)>, <Segment(1269.84, 1270.56)>, <Segment(1272.93, 1275.42)>, <Segment(1276.14, 1277.04)>, <Segment(1276.68, 1278.18)>, <Segment(1277.97, 1278.78)>, <Segment(1281.36, 1294.98)>, <Segment(1290.93, 1291.53)>, <Segment(1295.46, 1299.96)>, <Segment(1300.41, 1301.43)>, <Segment(1301.88, 1307.16)>, <Segment(1304.07, 1306.74)>, <Segment(1308, 1309.11)>, <Segment(1308.12, 1316.22)>, <Segment(1309.65, 1310.7)>, <Segment(1311.27, 1311.93)>, <Segment(1316.1, 1320.72)>, <Segment(1320.75, 1321.2)>, <Segment(1321.23, 1329.12)>, <Segment(1322.82, 1323.39)>, <Segment(1328.43, 1329.15)>, <Segment(1331.79, 1332.96)>, <Segment(1333.86, 1334.4)>, <Segment(1336.68, 1339.92)>, <Segment(1338.36, 1339.74)>, <Segment(1340.52, 1342.44)>, <Segment(1340.88, 1346.1)>, <Segment(1345.05, 1346.85)>, <Segment(1349.61, 1350.84)>, <Segment(1350.69, 1351.68)>, <Segment(1353, 1354.23)>, <Segment(1353.27, 1354.35)>, <Segment(1354.8, 1360.44)>, <Segment(1359.93, 1367.37)>, <Segment(1368.33, 1370.97)>, <Segment(1372.59, 1378.32)>, <Segment(1377.75, 1378.2)>, <Segment(1379.46, 1379.91)>, <Segment(1379.58, 1380.54)>, <Segment(1381.5, 1382.34)>, <Segment(1384.26, 1386.93)>, <Segment(1388.22, 1390.8)>, <Segment(1388.94, 1390.68)>, <Segment(1391.22, 1391.7)>, <Segment(1392.18, 1394.49)>, <Segment(1394.55, 1395.69)>, <Segment(1395.24, 1395.93)>, <Segment(1396.92, 1400.13)>, <Segment(1400.58, 1402.53)>, <Segment(1401.24, 1401.84)>, <Segment(1403.76, 1425.21)>, <Segment(1406.01, 1406.46)>, <Segment(1412.64, 1413.33)>, <Segment(1413.87, 1414.32)>, <Segment(1416, 1417.5)>, <Segment(1423.41, 1423.95)>, <Segment(1426.41, 1426.86)>, <Segment(1429.26, 1429.86)>, <Segment(1430.49, 1434.06)>, <Segment(1435.65, 1438.11)>, <Segment(1438.68, 1441.35)>, <Segment(1442.07, 1443.51)>, <Segment(1444.14, 1448.07)>, <Segment(1444.47, 1445.76)>, <Segment(1444.56, 1445.82)>, <Segment(1446.54, 1448.67)>, <Segment(1448.49, 1449.33)>, <Segment(1450.83, 1451.94)>, <Segment(1451.19, 1453.62)>, <Segment(1452.57, 1454.79)>, <Segment(1455.72, 1460.94)>, <Segment(1456.8, 1457.43)>, <Segment(1461.66, 1464)>, <Segment(1462.47, 1470.93)>, <Segment(1465.62, 1466.64)>, <Segment(1471.38, 1472.19)>, <Segment(1473.51, 1475.13)>, <Segment(1475.94, 1476.57)>, <Segment(1477.56, 1479.99)>, <Segment(1477.95, 1478.94)>, <Segment(1479.45, 1481.7)>, <Segment(1481.28, 1482.45)>, <Segment(1483.17, 1485.09)>, <Segment(1483.71, 1484.67)>, <Segment(1485.66, 1492.05)>, <Segment(1486.95, 1490.64)>, <Segment(1492.8, 1496.4)>, <Segment(1498.29, 1498.92)>, <Segment(1499.4, 1500.21)>, <Segment(1500.33, 1501.11)>, <Segment(1501.74, 1502.97)>, <Segment(1503.72, 1505.52)>, <Segment(1506.72, 1510.02)>, <Segment(1510.68, 1512.33)>, <Segment(1513.38, 1514.07)>, <Segment(1514.61, 1515.75)>, <Segment(1514.85, 1515.87)>, <Segment(1516.41, 1517.43)>, <Segment(1517.37, 1518.87)>, <Segment(1519.68, 1520.55)>, <Segment(1520.61, 1521.06)>, <Segment(1522.26, 1525.59)>, <Segment(1526.07, 1527.66)>, <Segment(1526.19, 1527.66)>, <Segment(1528.32, 1530.81)>, <Segment(1529.64, 1530.18)>, <Segment(1531.32, 1534.29)>, <Segment(1531.89, 1533.96)>, <Segment(1534.86, 1535.85)>, <Segment(1535.97, 1536.66)>, <Segment(1537.2, 1543.08)>, <Segment(1545.42, 1546.8)>, <Segment(1546.35, 1546.8)>, <Segment(1547.55, 1548.33)>, <Segment(1549.26, 1554.63)>, <Segment(1560.42, 1561.17)>, <Segment(1561.62, 1562.13)>, <Segment(1562.58, 1571.28)>, <Segment(1571.82, 1574.04)>, <Segment(1574.97, 1577.52)>, <Segment(1578.6, 1579.98)>, <Segment(1580.85, 1581.81)>, <Segment(1582.44, 1583.85)>, <Segment(1585.23, 1589.73)>, <Segment(1589.64, 1591.56)>, <Segment(1590.36, 1591.8)>, <Segment(1592.37, 1599.15)>, <Segment(1599.84, 1601.52)>, <Segment(1601.28, 1602.09)>, <Segment(1602.12, 1605.6)>, <Segment(1603.11, 1604.01)>, <Segment(1606.65, 1611.27)>, <Segment(1612.89, 1617.9)>, <Segment(1618.86, 1621.74)>, <Segment(1622.85, 1626.24)>, <Segment(1626.75, 1628.25)>, <Segment(1629.45, 1630.17)>, <Segment(1631.19, 1633.62)>, <Segment(1634.88, 1637.73)>, <Segment(1638.42, 1641.27)>, <Segment(1641.75, 1646.46)>, <Segment(1649.37, 1650)>, <Segment(1650.48, 1655.37)>, <Segment(1654.5, 1655.13)>, <Segment(1656, 1660.14)>, <Segment(1660.71, 1661.37)>, <Segment(1662.27, 1663.26)>, <Segment(1663.26, 1664.67)>, <Segment(1664.22, 1665.06)>, <Segment(1665.75, 1666.23)>, <Segment(1667.1, 1668.48)>, <Segment(1669.32, 1670.52)>, <Segment(1670.34, 1675.5)>, <Segment(1677.99, 1682.4)>, <Segment(1683.21, 1684.41)>, <Segment(1683.24, 1685.19)>, <Segment(1685.91, 1687.92)>, <Segment(1689.78, 1693.59)>, <Segment(1694.46, 1695.12)>, <Segment(1695.75, 1704.45)>, <Segment(1705.26, 1708.47)>, <Segment(1709.07, 1713.12)>, <Segment(1710.9, 1712.67)>, <Segment(1714.59, 1718.85)>, <Segment(1716.21, 1717.8)>, <Segment(1719.3, 1730.94)>, <Segment(1722.54, 1724.07)>, <Segment(1731.48, 1732.23)>, <Segment(1733.16, 1737.81)>, <Segment(1738.26, 1738.83)>, <Segment(1739.31, 1741.02)>, <Segment(1742.1, 1743.21)>, <Segment(1743.75, 1748.28)>, <Segment(1749.12, 1751.91)>, <Segment(1753.05, 1754.94)>, <Segment(1755.66, 1757.46)>, <Segment(1759.74, 1764.99)>, <Segment(1766.7, 1767.42)>, <Segment(1767.9, 1768.74)>, <Segment(1768.02, 1769.49)>, <Segment(1770.12, 1772.46)>, <Segment(1772.91, 1775.49)>, <Segment(1776.15, 1776.9)>, <Segment(1778.55, 1779.09)>, <Segment(1779.9, 1785.78)>, <Segment(1787.64, 1791.93)>, <Segment(1793.64, 1794.81)>, <Segment(1796.97, 1798.14)>, <Segment(1799.07, 1802.28)>, <Segment(1804.44, 1807.98)>, <Segment(1809.78, 1817.52)>, <Segment(1810.74, 1813.8)>, <Segment(1818.96, 1822.32)>, <Segment(1821.66, 1822.35)>, <Segment(1823.55, 1824.21)>, <Segment(1825.35, 1827.33)>, <Segment(1826.22, 1828.32)>, <Segment(1827.78, 1832.07)>, <Segment(1831.74, 1832.61)>, <Segment(1832.67, 1844.04)>, <Segment(1838.7, 1839.84)>, <Segment(1841.82, 1842.36)>, <Segment(1846.71, 1849.23)>, <Segment(1850.67, 1853.67)>, <Segment(1855.05, 1859.19)>, <Segment(1858.44, 1859.46)>, <Segment(1860.27, 1862.52)>, <Segment(1863.12, 1868.58)>, <Segment(1869.36, 1871.94)>, <Segment(1873.74, 1874.7)>, <Segment(1874.55, 1879.47)>, <Segment(1880.16, 1885.74)>, <Segment(1885.56, 1886.52)>, <Segment(1888.47, 1889.13)>, <Segment(1889.07, 1891.2)>, <Segment(1891.83, 1892.64)>, <Segment(1893.57, 1896.09)>, <Segment(1897.29, 1898.28)>, <Segment(1898.73, 1902.75)>, <Segment(1900.29, 1901.07)>, <Segment(1904.4, 1905.72)>, <Segment(1907.37, 1910.64)>, <Segment(1911.75, 1913.1)>, <Segment(1913.55, 1914.87)>, <Segment(1915.65, 1918.11)>, <Segment(1918.74, 1919.97)>, <Segment(1919.1, 1920.12)>, <Segment(1922.04, 1925.07)>, <Segment(1922.61, 1923.06)>, <Segment(1925.52, 1926.78)>, <Segment(1926.54, 1928.79)>, <Segment(1927.38, 1931.82)>, <Segment(1933.23, 1941.42)>, <Segment(1933.56, 1934.4)>, <Segment(1939.53, 1939.98)>, <Segment(1940.88, 1941.54)>, <Segment(1941.87, 1943.25)>, <Segment(1943.91, 1944.36)>, <Segment(1944.03, 1945.11)>, <Segment(1945.17, 1949.13)>, <Segment(1946.97, 1947.87)>, <Segment(1949.73, 1951.44)>, <Segment(1951.89, 1952.85)>, <Segment(1954.38, 1956.78)>, <Segment(1957.23, 1961.76)>, <Segment(1962.3, 1963.92)>, <Segment(1964.55, 1967.07)>, <Segment(1967.85, 1969.74)>, <Segment(1970.25, 1973.16)>, <Segment(1970.37, 1975.74)>, <Segment(1970.67, 1971.45)>, <Segment(1976.58, 1983.57)>, <Segment(1986.51, 1990.26)>, <Segment(1992.54, 1997.25)>, <Segment(1998.33, 2001.06)>, <Segment(2001.69, 2002.89)>, <Segment(2004.51, 2009.7)>, <Segment(2008.5, 2009.13)>, <Segment(2010.33, 2014.05)>, <Segment(2015.07, 2024.34)>, <Segment(2024.97, 2026.05)>, <Segment(2026.53, 2028.27)>, <Segment(2027.7, 2028.87)>, <Segment(2029.2, 2034.27)>, <Segment(2035.98, 2038.41)>, <Segment(2040.42, 2043.84)>, <Segment(2041.35, 2041.8)>, <Segment(2044.71, 2045.64)>, <Segment(2045.64, 2046.09)>, <Segment(2046.36, 2049.72)>, <Segment(2046.57, 2048.91)>, <Segment(2050.38, 2052.48)>, <Segment(2053.08, 2054.55)>, <Segment(2055.66, 2057.19)>, <Segment(2058.09, 2065.2)>, <Segment(2058.51, 2061.03)>, <Segment(2065.98, 2069.49)>, <Segment(2066.25, 2066.85)>, <Segment(2070.06, 2073.84)>, <Segment(2071.74, 2073.84)>, <Segment(2075.58, 2080.68)>, <Segment(2078.49, 2079.75)>, <Segment(2081.97, 2090.49)>, <Segment(2088.15, 2088.66)>, <Segment(2090.94, 2095.77)>, <Segment(2091.84, 2092.68)>, <Segment(2096.37, 2099.49)>, <Segment(2100.12, 2100.78)>, <Segment(2101.32, 2114.67)>, <Segment(2101.86, 2102.67)>, <Segment(2115.3, 2115.84)>, <Segment(2116.86, 2117.46)>, <Segment(2118.06, 2120.43)>, <Segment(2120.91, 2122.29)>, <Segment(2122.74, 2123.28)>, <Segment(2123.73, 2127.36)>, <Segment(2128.29, 2129.19)>, <Segment(2130.39, 2131.2)>, <Segment(2131.68, 2133)>, <Segment(2134.68, 2138.49)>, <Segment(2138.97, 2140.05)>, <Segment(2139.36, 2139.87)>, <Segment(2141.61, 2144.1)>, <Segment(2141.91, 2142.75)>, <Segment(2143.2, 2144.01)>, <Segment(2144.7, 2145.84)>, <Segment(2146.74, 2151.06)>, <Segment(2151.15, 2164.26)>, <Segment(2165.34, 2176.68)>, <Segment(2179.35, 2181.81)>, <Segment(2182.68, 2185.23)>, <Segment(2186.01, 2192.01)>, <Segment(2187.39, 2187.84)>, <Segment(2191.98, 2196.03)>, <Segment(2196.48, 2197.17)>, <Segment(2197.62, 2211.21)>, <Segment(2211.93, 2214.03)>, <Segment(2214.48, 2221.53)>, <Segment(2222.16, 2223.93)>, <Segment(2225.85, 2228.61)>, <Segment(2230.26, 2231.82)>, <Segment(2232.96, 2240.79)>, <Segment(2241.9, 2243.46)>, <Segment(2244.9, 2247.03)>, <Segment(2247.57, 2248.59)>, <Segment(2249.4, 2252.49)>, <Segment(2251.86, 2253.15)>, <Segment(2253, 2254.59)>, <Segment(2255.85, 2263.26)>, <Segment(2263.86, 2273.88)>, <Segment(2270.91, 2271.51)>, <Segment(2274.33, 2276.85)>, <Segment(2278.38, 2280.96)>, <Segment(2281.53, 2282.19)>, <Segment(2282.76, 2285.43)>, <Segment(2286.93, 2291.46)>, <Segment(2292.69, 2293.23)>, <Segment(2293.86, 2298.09)>, <Segment(2298.6, 2299.74)>, <Segment(2300.37, 2305.98)>, <Segment(2307.15, 2312.4)>, <Segment(2313.48, 2316.06)>, <Segment(2316.57, 2318.67)>, <Segment(2318.73, 2320.92)>, <Segment(2319.81, 2323.98)>, <Segment(2321.01, 2321.49)>, <Segment(2324.46, 2327.52)>, <Segment(2328.84, 2357.04)>, <Segment(2328.99, 2329.89)>, <Segment(2348.16, 2349.15)>, <Segment(2352.66, 2354.04)>, <Segment(2355.81, 2359.29)>, <Segment(2357.94, 2371.11)>, <Segment(2360.76, 2362.2)>, <Segment(2362.98, 2363.49)>, <Segment(2364.12, 2366.34)>, <Segment(2368.44, 2369.28)>, <Segment(2370.39, 2372.67)>, <Segment(2371.62, 2377.71)>, <Segment(2373.54, 2375.76)>, <Segment(2376.81, 2382.27)>, <Segment(2379.66, 2382.93)>, <Segment(2383.71, 2387.49)>, <Segment(2384.52, 2387.94)>, <Segment(2388.33, 2391.84)>, <Segment(2389.62, 2390.07)>, <Segment(2392.17, 2393.49)>, <Segment(2392.53, 2411.49)>, <Segment(2393.28, 2394.81)>, <Segment(2395.44, 2396.1)>, <Segment(2398.71, 2399.88)>, <Segment(2401.5, 2404.38)>, <Segment(2406.75, 2407.53)>, <Segment(2410.35, 2411.7)>, <Segment(2414.55, 2417.13)>, <Segment(2415.45, 2416.32)>, <Segment(2416.77, 2417.73)>, <Segment(2417.79, 2421.87)>, <Segment(2422.35, 2431.77)>, <Segment(2432.22, 2435.67)>, <Segment(2436.24, 2447.67)>, <Segment(2441.46, 2441.97)>, <Segment(2449.35, 2454.96)>, <Segment(2455.2, 2455.71)>, <Segment(2456.67, 2460.69)>, <Segment(2459.22, 2460.51)>, <Segment(2463.12, 2465.16)>, <Segment(2467.44, 2472.51)>, <Segment(2468.55, 2471.43)>, <Segment(2473.38, 2474.28)>, <Segment(2473.5, 2481.96)>, <Segment(2475.54, 2476.2)>, <Segment(2476.68, 2477.13)>, <Segment(2477.58, 2478.06)>, <Segment(2479.98, 2484.27)>, <Segment(2481.54, 2482.65)>, <Segment(2482.44, 2483.76)>, <Segment(2485.11, 2486.13)>, <Segment(2486.61, 2496.18)>, <Segment(2496.66, 2498.1)>, <Segment(2496.72, 2498.67)>, <Segment(2499.87, 2500.56)>, <Segment(2501.07, 2501.52)>, <Segment(2501.52, 2502.15)>, <Segment(2502.6, 2507.1)>, <Segment(2504.73, 2508.27)>, <Segment(2507.55, 2510.49)>, <Segment(2510.43, 2511.12)>, <Segment(2511.24, 2521.98)>, <Segment(2512.23, 2513.82)>, <Segment(2514.39, 2516.82)>, <Segment(2522.52, 2525.52)>, <Segment(2522.55, 2523.03)>, <Segment(2524.89, 2525.34)>, <Segment(2527.92, 2528.52)>, <Segment(2528.28, 2529.45)>, <Segment(2530.02, 2530.71)>, <Segment(2531.19, 2536.32)>, <Segment(2534.28, 2536.23)>, <Segment(2536.92, 2537.73)>, <Segment(2538.27, 2538.9)>, <Segment(2539.47, 2542.62)>, <Segment(2541.66, 2542.11)>, <Segment(2543.07, 2545.92)>, <Segment(2545.38, 2545.89)>, <Segment(2546.76, 2549.7)>, <Segment(2548.5, 2550.06)>, <Segment(2551.05, 2552.88)>, <Segment(2551.89, 2552.46)>, <Segment(2553.69, 2554.83)>, <Segment(2555.31, 2556.33)>, <Segment(2556.12, 2557.71)>, <Segment(2557.38, 2558.13)>, <Segment(2558.64, 2559.78)>, <Segment(2560.47, 2561.91)>, <Segment(2562.36, 2566.29)>, <Segment(2566.74, 2573.64)>, <Segment(2572.8, 2575.95)>, <Segment(2574.51, 2583.36)>, <Segment(2576.82, 2577.57)>, <Segment(2580.48, 2582.43)>, <Segment(2582.97, 2584.83)>, <Segment(2584.02, 2586.39)>, <Segment(2586.69, 2587.14)>, <Segment(2587.59, 2588.7)>, <Segment(2589.3, 2593.23)>, <Segment(2593.95, 2595.21)>, <Segment(2594.22, 2596.47)>, <Segment(2595.69, 2597.04)>, <Segment(2597.91, 2599.59)>, <Segment(2600.1, 2601.27)>, <Segment(2602.2, 2604.93)>, <Segment(2602.59, 2603.7)>, <Segment(2606.4, 2610.15)>, <Segment(2610.9, 2611.41)>, <Segment(2611.92, 2615.43)>, <Segment(2616, 2617.59)>, <Segment(2618.25, 2621.61)>, <Segment(2620.83, 2621.64)>, <Segment(2622.33, 2624.13)>, <Segment(2624.67, 2631.6)>, <Segment(2634.24, 2637.21)>, <Segment(2638.05, 2641.83)>, <Segment(2638.74, 2640.81)>, <Segment(2642.13, 2645.25)>, <Segment(2645.76, 2647.56)>, <Segment(2646.57, 2649.36)>, <Segment(2649.84, 2650.89)>, <Segment(2650.77, 2652.72)>, <Segment(2654.07, 2654.85)>, <Segment(2655.66, 2657.79)>, <Segment(2656.11, 2661.42)>, <Segment(2659.14, 2662.08)>, <Segment(2661.93, 2666.07)>, <Segment(2663.31, 2663.79)>, <Segment(2666.4, 2669.04)>, <Segment(2667.36, 2671.59)>, <Segment(2672.34, 2677.92)>, <Segment(2672.55, 2674.41)>, <Segment(2678.67, 2681.88)>, <Segment(2682.54, 2685.57)>, <Segment(2686.56, 2688.24)>, <Segment(2688.87, 2696.16)>, <Segment(2696.94, 2698.86)>, <Segment(2699.67, 2703.18)>, <Segment(2701.44, 2702.01)>, <Segment(2704.17, 2707.56)>, <Segment(2706.15, 2708.13)>, <Segment(2708.07, 2709.54)>, <Segment(2710.5, 2716.32)>, <Segment(2719.47, 2721.75)>, <Segment(2722.32, 2722.83)>, <Segment(2724.33, 2727.27)>, <Segment(2727.9, 2729.61)>, <Segment(2730.21, 2732.88)>, <Segment(2733.9, 2734.95)>, <Segment(2734.5, 2736.09)>, <Segment(2736.75, 2739.12)>, <Segment(2739.81, 2744.34)>, <Segment(2744.85, 2745.96)>, <Segment(2748.24, 2748.78)>, <Segment(2748.78, 2752.05)>, <Segment(2752.62, 2758.35)>, <Segment(2759.25, 2761.05)>, <Segment(2760.78, 2761.38)>, <Segment(2762.64, 2767.44)>, <Segment(2771.79, 2772.75)>, <Segment(2773.47, 2774.1)>, <Segment(2775.36, 2776.56)>, <Segment(2776.8, 2777.76)>, <Segment(2778.57, 2782.95)>, <Segment(2779.26, 2780.25)>, <Segment(2786.88, 2789.37)>, <Segment(2787.21, 2788.86)>, <Segment(2794.14, 2795.16)>, <Segment(2797.62, 2805.72)>, <Segment(2814.33, 2814.84)>, <Segment(2827.38, 2828.82)>, <Segment(2831.88, 2854.29)>, <Segment(2832.42, 2833.08)>, <Segment(2855.52, 2876.85)>, <Segment(2855.97, 2856.75)>, <Segment(2873.94, 2874.39)>, <Segment(2877.87, 2889.27)>, <Segment(2889.96, 2897.58)>, <Segment(2900.43, 2900.94)>, <Segment(2901.81, 2902.92)>, <Segment(2902.56, 2903.19)>, <Segment(2903.37, 2910.3)>, <Segment(2910.75, 2912.43)>, <Segment(2914.8, 2915.49)>, <Segment(2916.66, 2920.35)>, <Segment(2920.89, 2924.4)>, <Segment(2926.8, 2929.86)>, <Segment(2930.55, 2932.53)>, <Segment(2931.48, 2933.22)>, <Segment(2933.13, 2934.33)>, <Segment(2933.67, 2945.64)>, <Segment(2946.15, 2962.32)>, <Segment(2963.37, 2984.4)>, <Segment(2964.78, 2965.44)>, <Segment(2985.63, 2986.98)>, <Segment(2986.92, 2987.58)>, <Segment(2987.64, 3012.24)>, <Segment(3012.75, 3035.43)>, <Segment(3036.45, 3060.96)>, <Segment(3044.82, 3045.45)>, <Segment(3062.07, 3063.57)>, <Segment(3063.03, 3063.48)>, <Segment(3064.59, 3067.89)>, <Segment(3068.37, 3069.54)>, <Segment(3070.23, 3074.58)>, <Segment(3075.78, 3076.23)>, <Segment(3076.92, 3079.32)>, <Segment(3080.91, 3084.96)>, <Segment(3087.21, 3089.13)>, <Segment(3089.91, 3095.97)>, <Segment(3097.08, 3098.61)>, <Segment(3099.51, 3100.38)>, <Segment(3100.95, 3101.7)>, <Segment(3103.44, 3105.33)>, <Segment(3106.08, 3108.15)>, <Segment(3110.22, 3114.87)>, <Segment(3116.49, 3120.6)>, <Segment(3121.32, 3124.26)>, <Segment(3122.85, 3124.08)>, <Segment(3125.22, 3127.23)>, <Segment(3125.64, 3127.2)>, <Segment(3128.85, 3130.95)>, <Segment(3129.09, 3130.89)>, <Segment(3131.73, 3136.14)>, <Segment(3132.87, 3136.17)>, <Segment(3136.59, 3139.29)>, <Segment(3136.86, 3139.5)>, <Segment(3140.07, 3141.03)>, <Segment(3141.99, 3146.22)>, <Segment(3142.26, 3146.46)>, <Segment(3146.73, 3147.84)>, <Segment(3147.03, 3148.11)>, <Segment(3148.29, 3149.49)>, <Segment(3148.59, 3149.82)>, <Segment(3150.48, 3152.79)>, <Segment(3151.35, 3153.03)>, <Segment(3153.24, 3153.81)>, <Segment(3153.66, 3154.11)>, <Segment(3154.5, 3155.01)>, <Segment(3155.76, 3158.34)>, <Segment(3156.09, 3158.4)>, <Segment(3158.79, 3164.4)>, <Segment(3159.42, 3161.4)>, <Segment(3164.07, 3164.52)>, <Segment(3165.54, 3169.77)>, <Segment(3165.84, 3169.98)>, <Segment(3170.37, 3175.5)>, <Segment(3170.7, 3175.2)>, <Segment(3176.1, 3184.2)>, <Segment(3176.46, 3181.14)>, <Segment(3182.64, 3183.3)>, <Segment(3185.55, 3187.92)>, <Segment(3185.88, 3188.16)>, <Segment(3188.58, 3190.95)>, <Segment(3188.91, 3191.1)>, <Segment(3192.93, 3198.15)>, <Segment(3193.32, 3198.33)>, <Segment(3198.87, 3203.82)>, <Segment(3199.2, 3203.58)>, <Segment(3205.41, 3209.73)>, <Segment(3205.8, 3209.85)>, <Segment(3210.96, 3212.91)>, <Segment(3211.29, 3213.21)>, <Segment(3213.39, 3215.52)>, <Segment(3213.72, 3215.73)>, <Segment(3216.15, 3217.68)>, <Segment(3216.51, 3218.04)>, <Segment(3218.22, 3222)>, <Segment(3218.82, 3219.72)>, <Segment(3221.4, 3222.24)>, <Segment(3223.02, 3229.65)>, <Segment(3223.5, 3229.98)>, <Segment(3231.06, 3234.27)>, <Segment(3231.48, 3233.58)>, <Segment(3234.93, 3235.41)>, <Segment(3235.14, 3235.59)>, <Segment(3235.98, 3237.12)>, <Segment(3236.22, 3237.36)>, <Segment(3238.53, 3240.24)>, <Segment(3238.8, 3240.48)>, <Segment(3242.46, 3243.39)>, <Segment(3242.7, 3243.3)>, <Segment(3243.93, 3246.24)>, <Segment(3244.17, 3246.42)>, <Segment(3246.72, 3256.86)>, <Segment(3247.11, 3249.69)>, <Segment(3252.15, 3257.1)>, <Segment(3257.46, 3260.34)>, <Segment(3257.79, 3260.67)>, <Segment(3260.97, 3291.6)>, <Segment(3292.05, 3294.12)>, <Segment(3294.78, 3297.54)>, <Segment(3295.17, 3300.72)>, <Segment(3299.07, 3300.45)>, <Segment(3301.68, 3304.41)>, <Segment(3302.04, 3304.71)>, <Segment(3305.52, 3312.09)>, <Segment(3305.94, 3306.93)>, <Segment(3307.38, 3312.27)>, <Segment(3312.72, 3313.92)>, <Segment(3313.29, 3314.13)>, <Segment(3314.67, 3316.08)>, <Segment(3315.03, 3316.38)>, <Segment(3316.59, 3320.13)>, <Segment(3316.92, 3320.37)>, <Segment(3320.82, 3324)>, <Segment(3321.24, 3324.15)>, <Segment(3324.45, 3335.52)>, <Segment(3324.81, 3326.97)>, <Segment(3327.51, 3331.41)>, <Segment(3331.86, 3335.76)>, <Segment(3336.12, 3341.28)>, <Segment(3336.45, 3341.28)>, <Segment(3342.03, 3344.37)>, <Segment(3342.39, 3344.67)>, <Segment(3345, 3352.53)>, <Segment(3346.11, 3350.64)>, <Segment(3353.1, 3356.4)>, <Segment(3353.43, 3356.58)>, <Segment(3357.33, 3376.98)>, <Segment(3357.78, 3360.81)>, <Segment(3361.38, 3363.42)>, <Segment(3363.87, 3365.64)>, <Segment(3366.09, 3367.35)>, <Segment(3367.8, 3368.52)>, <Segment(3369, 3371.34)>, <Segment(3371.88, 3377.25)>, <Segment(3377.43, 3379.23)>, <Segment(3377.76, 3379.35)>, <Segment(3380.22, 3393.3)>, <Segment(3381.03, 3393.6)>, <Segment(3393.9, 3394.83)>, <Segment(3394.23, 3395.07)>, <Segment(3395.4, 3396.78)>, <Segment(3395.76, 3397.05)>, <Segment(3399.18, 3403.14)>, <Segment(3399.51, 3403.44)>, <Segment(3403.62, 3406.14)>, <Segment(3404.34, 3404.79)>, <Segment(3405.42, 3406.38)>, <Segment(3406.77, 3410.76)>, <Segment(3407.22, 3410.43)>, <Segment(3411.84, 3415.5)>, <Segment(3412.2, 3415.38)>, <Segment(3416.97, 3423.63)>, <Segment(3417.18, 3423.81)>, <Segment(3424.08, 3427.56)>, <Segment(3424.35, 3427.77)>, <Segment(3428.25, 3430.92)>, <Segment(3428.52, 3431.13)>, <Segment(3431.64, 3437.16)>, <Segment(3431.88, 3437.4)>, <Segment(3437.85, 3439.29)>, <Segment(3438.21, 3439.53)>, <Segment(3440.01, 3441.06)>, <Segment(3440.31, 3441.3)>, <Segment(3441.81, 3445.98)>, <Segment(3442.14, 3446.01)>, <Segment(3446.43, 3446.94)>, <Segment(3447.72, 3448.77)>, <Segment(3448.26, 3449.04)>, <Segment(3449.64, 3454.56)>, <Segment(3449.97, 3454.8)>, <Segment(3455.52, 3464.97)>, <Segment(3455.97, 3463.56)>, <Segment(3464.61, 3465.21)>, <Segment(3465.42, 3466.47)>, <Segment(3465.81, 3466.68)>, <Segment(3468.24, 3486.18)>, <Segment(3468.57, 3471.54)>, <Segment(3486.9, 3492.9)>, <Segment(3487.35, 3488.76)>, <Segment(3489.48, 3490.14)>, <Segment(3494.19, 3498.48)>, <Segment(3494.61, 3498.57)>, <Segment(3499.05, 3499.98)>, <Segment(3499.38, 3500.25)>, <Segment(3500.43, 3510.42)>, <Segment(3500.73, 3502.14)>, <Segment(3503.34, 3510.27)>, <Segment(3510.87, 3515.4)>, <Segment(3511.17, 3515.13)>, <Segment(3515.97, 3519.54)>, <Segment(3516.3, 3519.87)>, <Segment(3520.17, 3521.13)>, <Segment(3520.5, 3521.46)>, <Segment(3521.85, 3527.1)>, <Segment(3522.18, 3522.9)>, <Segment(3524.01, 3527.37)>, <Segment(3527.61, 3534.81)>, <Segment(3527.94, 3534.42)>, <Segment(3535.38, 3538.29)>, <Segment(3535.53, 3538.23)>, <Segment(3539.34, 3540.99)>, <Segment(3539.58, 3541.2)>, <Segment(3541.83, 3549.06)>, <Segment(3542.61, 3543.27)>, <Segment(3543.72, 3547.23)>, <Segment(3550.35, 3552.6)>, <Segment(3550.98, 3552.75)>, <Segment(3553.05, 3565.83)>, <Segment(3553.29, 3556.53)>, <Segment(3557.07, 3563.1)>, <Segment(3565.41, 3565.95)>, <Segment(3566.52, 3572.46)>, <Segment(3567.15, 3568.23)>, <Segment(3568.71, 3572.61)>, <Segment(3573.21, 3577.53)>, <Segment(3574.35, 3577.65)>, <Segment(3578.34, 3579.24)>, <Segment(3580.74, 3582.69)>, <Segment(3582.3, 3582.93)>, <Segment(3583.53, 3585.06)>, <Segment(3583.89, 3584.46)>, <Segment(3587.13, 3595.59)>, <Segment(3587.55, 3592.68)>, <Segment(3593.31, 3595.8)>, <Segment(3596.16, 3597.48)>, <Segment(3596.52, 3597.84)>, <Segment(3597.99, 3612.96)>, <Segment(3598.35, 3603.81)>, <Segment(3605.04, 3606.03)>, <Segment(3606.54, 3608.91)>, <Segment(3610.14, 3613.14)>, <Segment(3613.74, 3622.38)>, <Segment(3614.16, 3622.53)>, <Segment(3624.06, 3624.63)>, <Segment(3624.39, 3624.93)>, <Segment(3625.14, 3632.07)>, <Segment(3625.83, 3628.59)>, <Segment(3630.72, 3632.31)>, <Segment(3633.57, 3639.12)>, <Segment(3634.02, 3639.39)>, <Segment(3640.29, 3643.77)>, <Segment(3640.65, 3643.92)>, <Segment(3644.85, 3647.94)>, <Segment(3645.21, 3648.15)>, <Segment(3650.28, 3656.1)>, <Segment(3650.79, 3655.17)>, <Segment(3656.64, 3657.42)>, <Segment(3656.97, 3657.54)>, <Segment(3657.87, 3658.68)>, <Segment(3658.2, 3658.92)>, <Segment(3659.25, 3663.48)>, <Segment(3659.58, 3663.78)>, <Segment(3664.08, 3664.83)>, <Segment(3664.41, 3665.01)>, <Segment(3666.42, 3679.89)>, <Segment(3666.75, 3670.95)>, <Segment(3672, 3675.93)>, <Segment(3680.37, 3683.52)>, <Segment(3680.7, 3683.49)>, <Segment(3684.84, 3689.07)>, <Segment(3685.38, 3687.99)>, <Segment(3688.8, 3689.31)>, <Segment(3689.64, 3691.23)>, <Segment(3690, 3691.44)>, <Segment(3692.73, 3701.85)>, <Segment(3693.06, 3699.72)>, <Segment(3700.56, 3702.15)>, <Segment(3702.57, 3703.02)>, <Segment(3704.43, 3705.12)>, <Segment(3704.79, 3705.3)>, <Segment(3706.17, 3708.36)>, <Segment(3706.5, 3710.28)>, <Segment(3708.96, 3710.04)>, <Segment(3710.58, 3715.11)>, <Segment(3710.97, 3715.17)>, <Segment(3715.98, 3722.04)>, <Segment(3716.34, 3717.93)>, <Segment(3718.38, 3722.28)>, <Segment(3726.33, 3736.98)>, <Segment(3726.66, 3730.62)>, <Segment(3731.46, 3733.74)>, <Segment(3734.25, 3737.19)>, <Segment(3737.79, 3742.83)>, <Segment(3738.03, 3742.86)>, <Segment(3743.64, 3752.79)>, <Segment(3744.12, 3747.84)>, <Segment(3751.89, 3752.46)>, <Segment(3753.75, 3759.21)>, <Segment(3754.05, 3755.73)>, <Segment(3760.23, 3761.58)>, <Segment(3762.21, 3765.42)>, <Segment(3766.26, 3773.13)>, <Segment(3775.32, 3778.53)>, <Segment(3778.98, 3782.25)>, <Segment(3782.79, 3796.59)>, <Segment(3792, 3792.45)>, <Segment(3792.9, 3793.86)>, <Segment(3797.31, 3799.35)>, <Segment(3800.16, 3802.83)>, <Segment(3800.49, 3800.94)>, <Segment(3801.54, 3803.16)>, <Segment(3803.43, 3809.58)>, <Segment(3803.76, 3805.77)>, <Segment(3806.34, 3806.88)>, <Segment(3807.42, 3809.85)>, <Segment(3810.3, 3812.91)>, <Segment(3811.17, 3813.12)>, <Segment(3813.6, 3816.84)>, <Segment(3813.93, 3817.11)>, <Segment(3817.29, 3823.86)>, <Segment(3817.68, 3820.62)>, <Segment(3824.73, 3829.53)>, <Segment(3825.09, 3829.05)>, <Segment(3830.19, 3839.37)>, <Segment(3830.52, 3832.47)>, <Segment(3833.73, 3839.31)>, <Segment(3840.36, 3843.36)>, <Segment(3840.72, 3841.41)>, <Segment(3842.04, 3843.63)>, <Segment(3844.41, 3854.7)>, <Segment(3844.74, 3853.11)>, <Segment(3853.65, 3854.34)>, <Segment(3855.45, 3858.15)>, <Segment(3855.81, 3858.39)>, <Segment(3858.66, 3860.4)>, <Segment(3859.92, 3860.67)>, <Segment(3861.39, 3863.94)>, <Segment(3861.81, 3863.52)>, <Segment(3864.54, 3869.7)>, <Segment(3865.44, 3867.09)>, <Segment(3870.36, 3880.53)>, <Segment(3880.98, 3891.12)>, <Segment(3886.47, 3886.92)>, <Segment(3887.73, 3888.42)>, <Segment(3892.41, 3900.24)>, <Segment(3900.84, 3902.49)>, <Segment(3904.38, 3907.59)>, <Segment(3904.74, 3907.89)>, <Segment(3908.25, 3912.6)>, <Segment(3908.58, 3912.87)>, <Segment(3913.95, 3914.91)>, <Segment(3914.34, 3915.21)>, <Segment(3915.51, 3919.5)>, <Segment(3915.93, 3919.29)>, <Segment(3920.01, 3920.55)>, <Segment(3921.3, 3922.89)>, <Segment(3921.66, 3923.19)>, <Segment(3923.67, 3930.57)>, <Segment(3924.06, 3927.45)>, <Segment(3928.11, 3930.06)>, <Segment(3933.36, 3934.14)>, <Segment(3933.69, 3934.44)>, <Segment(3934.59, 3938.04)>, <Segment(3934.92, 3938.1)>, <Segment(3938.91, 3950.28)>, <Segment(3950.79, 3954.21)>, <Segment(3955.2, 3957.51)>, <Segment(3958.77, 3961.71)>, <Segment(3962.16, 3966.63)>, <Segment(3962.49, 3966.99)>, <Segment(3967.26, 3969.09)>, <Segment(3967.59, 3969.27)>, <Segment(3970.5, 3980.16)>, <Segment(3970.89, 3976.83)>, <Segment(3977.52, 3980.43)>, <Segment(3981.18, 3987.87)>, <Segment(3981.51, 3988.17)>, <Segment(3988.59, 3995.46)>, <Segment(3988.95, 3995.67)>, <Segment(3996.06, 3997.11)>, <Segment(3996.39, 3997.2)>, <Segment(3997.86, 3998.31)>, <Segment(3999.24, 4004.58)>, <Segment(3999.6, 4005.48)>, <Segment(4006.56, 4007.67)>, <Segment(4008.42, 4009.32)>, <Segment(4008.75, 4009.32)>, <Segment(4010.37, 4013.37)>, <Segment(4010.7, 4013.91)>, <Segment(4014.18, 4023.12)>, <Segment(4014.57, 4015.2)>, <Segment(4016.43, 4021.56)>, <Segment(4022.1, 4023.42)>, <Segment(4023.72, 4031.64)>, <Segment(4024.08, 4031.82)>, <Segment(4032.09, 4034.19)>, <Segment(4032.42, 4034.1)>, <Segment(4035.9, 4037.52)>, <Segment(4036.29, 4037.67)>, <Segment(4038, 4041.24)>, <Segment(4038.6, 4039.86)>, <Segment(4040.31, 4041.57)>, <Segment(4042.05, 4044.09)>, <Segment(4042.38, 4044.27)>, <Segment(4044.84, 4046.31)>, <Segment(4045.2, 4046.25)>, <Segment(4047.18, 4048.8)>, <Segment(4047.6, 4049.01)>, <Segment(4050.69, 4056.27)>, <Segment(4057.53, 4059.03)>, <Segment(4059.48, 4060.62)>, <Segment(4062.06, 4068.75)>, <Segment(4062.45, 4062.93)>, <Segment(4066.98, 4067.79)>, <Segment(4071.45, 4075.38)>, <Segment(4072.29, 4074.72)>, <Segment(4076.07, 4082.97)>, <Segment(4076.58, 4082.88)>, <Segment(4084.53, 4090.8)>, <Segment(4091.34, 4099.26)>, <Segment(4092.06, 4093.05)>, <Segment(4094.76, 4099.38)>, <Segment(4100.01, 4100.46)>, <Segment(4100.97, 4104.33)>, <Segment(4101.69, 4102.5)>, <Segment(4102.95, 4103.61)>])>"
      ]
     },
     "execution_count": 227,
     "metadata": {},
     "output_type": "execute_result"
    }
   ],
   "source": [
    "# Compute Turn Taking for each participants\n",
    "all_an.get_timeline()"
   ]
  },
  {
   "cell_type": "code",
   "execution_count": 237,
   "metadata": {},
   "outputs": [
    {
     "name": "stdout",
     "output_type": "stream",
     "text": [
      "[ 01:08:22.950 -->  01:08:23.610]\n",
      "4103.610000011974\n"
     ]
    }
   ],
   "source": [
    "t = all_an.get_timeline()\n",
    "s =t[len(t)-1]\n",
    "print(s)\n",
    "print(s.end)"
   ]
  },
  {
   "cell_type": "markdown",
   "metadata": {},
   "source": [
    "# Feature Extraction for 30 seconds window\n",
    "This part of the code will extract features from the VAD results.\n"
   ]
  },
  {
   "cell_type": "code",
   "execution_count": 239,
   "metadata": {},
   "outputs": [],
   "source": [
    "def to_dataframe(annotations):\n",
    "    df = pd.DataFrame(columns=['start','end','label'])\n",
    "    for segment, _, label in all_an.itertracks(yield_label=True):\n",
    "        df = df.append({'start':segment.start,'end':segment.end,'label':label},ignore_index=True)\n",
    "    return df"
   ]
  },
  {
   "cell_type": "code",
   "execution_count": 241,
   "metadata": {},
   "outputs": [],
   "source": [
    "dd = to_dataframe(all_an)"
   ]
  },
  {
   "cell_type": "code",
   "execution_count": 244,
   "metadata": {},
   "outputs": [],
   "source": [
    "dd['start'] = pd.to_datetime(dd['start'], unit='s')"
   ]
  },
  {
   "cell_type": "code",
   "execution_count": 248,
   "metadata": {},
   "outputs": [
    {
     "data": {
      "text/plain": [
       "Timestamp('1970-01-01 01:08:22.950000012')"
      ]
     },
     "execution_count": 248,
     "metadata": {},
     "output_type": "execute_result"
    }
   ],
   "source": [
    "dd.iloc[-1,0]"
   ]
  },
  {
   "cell_type": "code",
   "execution_count": 315,
   "metadata": {},
   "outputs": [],
   "source": [
    "def verbalFeatures(anno,window_size='30S'):\n",
    "    chart = anno.chart(percent=True)\n",
    "    labels = [i[0] for i in chart]\n",
    "    timelines = {}\n",
    "    for label in labels:\n",
    "        timelines[label] = anno.label_timeline(label)\n",
    "    \n",
    "    df = pd.DataFrame(columns=['start','end','label'])\n",
    "    for segment, _, label in all_an.itertracks(yield_label=True):\n",
    "        df = df.append({'start':segment.start,'end':segment.end,'label':label},ignore_index=True)\n",
    "    df['duration'] = df['end'] - df['start']\n",
    "    df['start'] = pd.to_datetime(df['start'], unit='s')\n",
    "    df['end'] = pd.to_datetime(df['end'], unit='s')\n",
    "    # Setting the index\n",
    "    df = df.set_index(pd.DatetimeIndex(df['start']))\n",
    "    \n",
    "    columns=['frame']\n",
    "    \n",
    "    for label in labels:\n",
    "        col_name = label+'_speak'\n",
    "        columns.append(col_name)\n",
    "        \n",
    "    for label in labels:\n",
    "        col_name = label+'_turns'\n",
    "        columns.append(col_name)\n",
    "    \n",
    "    final = pd.DataFrame()\n",
    "    \n",
    "\n",
    "    \n",
    "    # End time to stop loop\n",
    "    end_time = df.iloc[-1,0]\n",
    "    start_time = df.iloc[0,0]\n",
    "    \n",
    "    \n",
    "    frame_no = 1\n",
    "    cur_ts = start_time\n",
    "    \n",
    "    # Creating time delta from specified time window\n",
    "    time_delta = pd.to_timedelta(window_size)\n",
    "    \n",
    "    frame_no = 1\n",
    "    \n",
    "    while cur_ts < end_time:\n",
    "        # Computing the end of timewindow\n",
    "        next_ts = cur_ts + time_delta\n",
    "        \n",
    "        print('Frame:',frame_no)\n",
    "\n",
    "        # Getting data between two timestamps\n",
    "        temp_speech_df = df.between_time(datetime.datetime.time(cur_ts),datetime.datetime.time(next_ts),include_start=True,include_end=False)\n",
    "\n",
    "        # Generate features out of the data\n",
    "        entry = extractFeatures(frame_no,labels,start_time,cur_ts,temp_speech_df)\n",
    "\n",
    "        # Adding the entry to the dataframe\n",
    "        final = final.append(entry,ignore_index=True)\n",
    "\n",
    "        # Moving starting timestamp to next time window\n",
    "        cur_ts = next_ts\n",
    "\n",
    "        frame_no += 1\n",
    "        \n",
    "    return final\n",
    "\n",
    "def extractFeatures(frame,labels,start_time,timestamp,speech_df):  \n",
    "    speak_time = {}\n",
    "    for label in labels:\n",
    "        speak_time[label] = 0\n",
    "        us = speech_df.loc[speech_df['label']==label,:]\n",
    "        speak_time[label] = us.duration.sum()\n",
    "\n",
    "    # String to store the speaking sequence\n",
    "    speaking_sequence=\"\"\n",
    "\n",
    "    \n",
    "    \n",
    "    # Speaking sequence\n",
    "    sequence = speech_df['label'].tolist()\n",
    "\n",
    "    \n",
    "    result = {'frame':frame}\n",
    "    \n",
    "    for label in labels:\n",
    "        speak_label = label + '_speak'\n",
    "        result[speak_label] = speak_time[label]\n",
    "        \n",
    "    \n",
    "    \n",
    "    # For computing turn-taking  \n",
    "    turn_df = pd.DataFrame(columns=['label','conti_frequency'])\n",
    "\n",
    "    # This function will count the number of continuous occurence\n",
    "    def count_conti_occurence(index):\n",
    "\n",
    "        # Set count to 0\n",
    "        count=0\n",
    "\n",
    "        # Starts from the given index\n",
    "        j = index\n",
    "\n",
    "        # Loop to iterate over the users sequence\n",
    "        while j<len(sequence):\n",
    "\n",
    "            # Increase the count if the element at given index (parameter) is same as the iterated element\n",
    "            if sequence[j] == sequence[index]:\n",
    "                count +=1\n",
    "\n",
    "            # If mismatch found, break the loop\n",
    "            else:\n",
    "                break\n",
    "\n",
    "            # Increases j\n",
    "            j +=1\n",
    "\n",
    "        # Return number of count for sequence[index] and index of first next occurence of different element.\n",
    "        return count,(j-index)\n",
    "\n",
    "    # Set i to 0 for the Loop\n",
    "    i = 0\n",
    "\n",
    "    # Iterate for entire sequence of users\n",
    "    while i < len(sequence):\n",
    "\n",
    "        # Call count_conti_occurence() function\n",
    "        count,diff = count_conti_occurence(i)\n",
    "\n",
    "\n",
    "        # Add continuous frequency of current user (sequence[i]) to the dataframe\n",
    "        turn_df = turn_df.append({'label':sequence[i],'conti_frequency':count},ignore_index=True)\n",
    "\n",
    "\n",
    "        # Move to next different element\n",
    "        i = i + diff\n",
    "    \n",
    "    for label in labels:\n",
    "        turn_label = label + '_turns'\n",
    "        turns = turn_df.loc[turn_df['label']==label,:]\n",
    "        \n",
    "        result[turn_label] = turns.shape[0]\n",
    "    \n",
    "    \n",
    "    \n",
    "    anno = Annotation()\n",
    "    for index, record in speech_df.iterrows():      \n",
    "        start = (record['start'] - start_time).total_seconds()       \n",
    "        end = (record['end'] - start_time).total_seconds()\n",
    "        anno[Segment(start, end), '_'] = record['label']\n",
    "        \n",
    "    for label1 in labels:\n",
    "        #print('Label:',label1)\n",
    "        overlap_label = label1+'_overlap'\n",
    "        overlap_time = 0\n",
    "        for label2 in labels:\n",
    "            if label1 != label2:\n",
    "                #print('-->',label2)\n",
    "                label1_timeline = anno.label_timeline(label1)\n",
    "                label2_timeline = anno.label_timeline(label2)\n",
    "                \n",
    "                for seg1,seg2 in label1_timeline.co_iter(label2_timeline):\n",
    "                    #print('=====>',seg1,seg2,)\n",
    "                    #print('      ',(seg1 & seg2).duration)\n",
    "                    overlap_time += (seg1 & seg2).duration\n",
    "        result[overlap_label] = overlap_time\n",
    "    \n",
    "    return result            "
   ]
  },
  {
   "cell_type": "code",
   "execution_count": 316,
   "metadata": {},
   "outputs": [
    {
     "name": "stdout",
     "output_type": "stream",
     "text": [
      "Frame: 1\n",
      "Frame: 2\n",
      "Frame: 3\n",
      "Frame: 4\n",
      "Frame: 5\n",
      "Frame: 6\n",
      "Frame: 7\n",
      "Frame: 8\n",
      "Frame: 9\n",
      "Frame: 10\n",
      "Frame: 11\n",
      "Frame: 12\n",
      "Frame: 13\n",
      "Frame: 14\n",
      "Frame: 15\n",
      "Frame: 16\n",
      "Frame: 17\n",
      "Frame: 18\n",
      "Frame: 19\n",
      "Frame: 20\n",
      "Frame: 21\n",
      "Frame: 22\n",
      "Frame: 23\n",
      "Frame: 24\n",
      "Frame: 25\n",
      "Frame: 26\n",
      "Frame: 27\n",
      "Frame: 28\n",
      "Frame: 29\n",
      "Frame: 30\n",
      "Frame: 31\n",
      "Frame: 32\n",
      "Frame: 33\n",
      "Frame: 34\n",
      "Frame: 35\n",
      "Frame: 36\n",
      "Frame: 37\n",
      "Frame: 38\n",
      "Frame: 39\n",
      "Frame: 40\n",
      "Frame: 41\n",
      "Frame: 42\n",
      "Frame: 43\n",
      "Frame: 44\n",
      "Frame: 45\n",
      "Frame: 46\n",
      "Frame: 47\n",
      "Frame: 48\n",
      "Frame: 49\n",
      "Frame: 50\n",
      "Frame: 51\n",
      "Frame: 52\n",
      "Frame: 53\n",
      "Frame: 54\n",
      "Frame: 55\n",
      "Frame: 56\n",
      "Frame: 57\n",
      "Frame: 58\n",
      "Frame: 59\n",
      "Frame: 60\n",
      "Frame: 61\n",
      "Frame: 62\n",
      "Frame: 63\n",
      "Frame: 64\n",
      "Frame: 65\n",
      "Frame: 66\n",
      "Frame: 67\n",
      "Frame: 68\n",
      "Frame: 69\n",
      "Frame: 70\n",
      "Frame: 71\n",
      "Frame: 72\n",
      "Frame: 73\n",
      "Frame: 74\n",
      "Frame: 75\n",
      "Frame: 76\n",
      "Frame: 77\n",
      "Frame: 78\n",
      "Frame: 79\n",
      "Frame: 80\n",
      "Frame: 81\n",
      "Frame: 82\n",
      "Frame: 83\n",
      "Frame: 84\n",
      "Frame: 85\n",
      "Frame: 86\n",
      "Frame: 87\n",
      "Frame: 88\n",
      "Frame: 89\n",
      "Frame: 90\n",
      "Frame: 91\n",
      "Frame: 92\n",
      "Frame: 93\n",
      "Frame: 94\n",
      "Frame: 95\n",
      "Frame: 96\n",
      "Frame: 97\n",
      "Frame: 98\n",
      "Frame: 99\n",
      "Frame: 100\n",
      "Frame: 101\n",
      "Frame: 102\n",
      "Frame: 103\n",
      "Frame: 104\n",
      "Frame: 105\n",
      "Frame: 106\n",
      "Frame: 107\n",
      "Frame: 108\n",
      "Frame: 109\n",
      "Frame: 110\n",
      "Frame: 111\n",
      "Frame: 112\n",
      "Frame: 113\n",
      "Frame: 114\n",
      "Frame: 115\n",
      "Frame: 116\n",
      "Frame: 117\n",
      "Frame: 118\n",
      "Frame: 119\n",
      "Frame: 120\n",
      "Frame: 121\n",
      "Frame: 122\n",
      "Frame: 123\n",
      "Frame: 124\n",
      "Frame: 125\n",
      "Frame: 126\n",
      "Frame: 127\n",
      "Frame: 128\n",
      "Frame: 129\n",
      "Frame: 130\n",
      "Frame: 131\n",
      "Frame: 132\n",
      "Frame: 133\n",
      "Frame: 134\n",
      "Frame: 135\n",
      "Frame: 136\n",
      "Frame: 137\n"
     ]
    }
   ],
   "source": [
    "f = verbalFeatures(all_an)"
   ]
  },
  {
   "cell_type": "code",
   "execution_count": 317,
   "metadata": {},
   "outputs": [
    {
     "data": {
      "text/html": [
       "<div>\n",
       "<style scoped>\n",
       "    .dataframe tbody tr th:only-of-type {\n",
       "        vertical-align: middle;\n",
       "    }\n",
       "\n",
       "    .dataframe tbody tr th {\n",
       "        vertical-align: top;\n",
       "    }\n",
       "\n",
       "    .dataframe thead th {\n",
       "        text-align: right;\n",
       "    }\n",
       "</style>\n",
       "<table border=\"1\" class=\"dataframe\">\n",
       "  <thead>\n",
       "    <tr style=\"text-align: right;\">\n",
       "      <th></th>\n",
       "      <th>chus_overlap</th>\n",
       "      <th>chus_speak</th>\n",
       "      <th>chus_turns</th>\n",
       "      <th>frame</th>\n",
       "      <th>luis_overlap</th>\n",
       "      <th>luis_speak</th>\n",
       "      <th>luis_turns</th>\n",
       "      <th>pankaj_overlap</th>\n",
       "      <th>pankaj_speak</th>\n",
       "      <th>pankaj_turns</th>\n",
       "      <th>shashi_overlap</th>\n",
       "      <th>shashi_speak</th>\n",
       "      <th>shashi_turns</th>\n",
       "    </tr>\n",
       "  </thead>\n",
       "  <tbody>\n",
       "    <tr>\n",
       "      <th>0</th>\n",
       "      <td>0.00</td>\n",
       "      <td>0.00</td>\n",
       "      <td>0.0</td>\n",
       "      <td>1.0</td>\n",
       "      <td>2.34</td>\n",
       "      <td>20.58</td>\n",
       "      <td>4.0</td>\n",
       "      <td>1.53</td>\n",
       "      <td>1.98</td>\n",
       "      <td>1.0</td>\n",
       "      <td>0.81</td>\n",
       "      <td>1.65</td>\n",
       "      <td>3.0</td>\n",
       "    </tr>\n",
       "    <tr>\n",
       "      <th>1</th>\n",
       "      <td>0.09</td>\n",
       "      <td>0.75</td>\n",
       "      <td>1.0</td>\n",
       "      <td>2.0</td>\n",
       "      <td>0.00</td>\n",
       "      <td>23.97</td>\n",
       "      <td>1.0</td>\n",
       "      <td>0.00</td>\n",
       "      <td>0.81</td>\n",
       "      <td>1.0</td>\n",
       "      <td>0.09</td>\n",
       "      <td>0.81</td>\n",
       "      <td>1.0</td>\n",
       "    </tr>\n",
       "    <tr>\n",
       "      <th>2</th>\n",
       "      <td>0.00</td>\n",
       "      <td>0.00</td>\n",
       "      <td>0.0</td>\n",
       "      <td>3.0</td>\n",
       "      <td>0.00</td>\n",
       "      <td>24.75</td>\n",
       "      <td>1.0</td>\n",
       "      <td>0.00</td>\n",
       "      <td>0.00</td>\n",
       "      <td>0.0</td>\n",
       "      <td>0.00</td>\n",
       "      <td>0.45</td>\n",
       "      <td>1.0</td>\n",
       "    </tr>\n",
       "    <tr>\n",
       "      <th>3</th>\n",
       "      <td>0.00</td>\n",
       "      <td>0.00</td>\n",
       "      <td>0.0</td>\n",
       "      <td>4.0</td>\n",
       "      <td>0.00</td>\n",
       "      <td>16.08</td>\n",
       "      <td>2.0</td>\n",
       "      <td>0.00</td>\n",
       "      <td>0.00</td>\n",
       "      <td>0.0</td>\n",
       "      <td>0.00</td>\n",
       "      <td>0.51</td>\n",
       "      <td>1.0</td>\n",
       "    </tr>\n",
       "    <tr>\n",
       "      <th>4</th>\n",
       "      <td>0.00</td>\n",
       "      <td>0.00</td>\n",
       "      <td>0.0</td>\n",
       "      <td>5.0</td>\n",
       "      <td>0.99</td>\n",
       "      <td>10.71</td>\n",
       "      <td>2.0</td>\n",
       "      <td>0.00</td>\n",
       "      <td>0.00</td>\n",
       "      <td>0.0</td>\n",
       "      <td>0.99</td>\n",
       "      <td>3.12</td>\n",
       "      <td>1.0</td>\n",
       "    </tr>\n",
       "    <tr>\n",
       "      <th>...</th>\n",
       "      <td>...</td>\n",
       "      <td>...</td>\n",
       "      <td>...</td>\n",
       "      <td>...</td>\n",
       "      <td>...</td>\n",
       "      <td>...</td>\n",
       "      <td>...</td>\n",
       "      <td>...</td>\n",
       "      <td>...</td>\n",
       "      <td>...</td>\n",
       "      <td>...</td>\n",
       "      <td>...</td>\n",
       "      <td>...</td>\n",
       "    </tr>\n",
       "    <tr>\n",
       "      <th>132</th>\n",
       "      <td>0.00</td>\n",
       "      <td>0.00</td>\n",
       "      <td>0.0</td>\n",
       "      <td>133.0</td>\n",
       "      <td>27.09</td>\n",
       "      <td>28.41</td>\n",
       "      <td>5.0</td>\n",
       "      <td>0.00</td>\n",
       "      <td>0.00</td>\n",
       "      <td>0.0</td>\n",
       "      <td>27.09</td>\n",
       "      <td>29.52</td>\n",
       "      <td>5.0</td>\n",
       "    </tr>\n",
       "    <tr>\n",
       "      <th>133</th>\n",
       "      <td>0.00</td>\n",
       "      <td>0.00</td>\n",
       "      <td>0.0</td>\n",
       "      <td>134.0</td>\n",
       "      <td>14.70</td>\n",
       "      <td>16.23</td>\n",
       "      <td>5.0</td>\n",
       "      <td>0.00</td>\n",
       "      <td>0.00</td>\n",
       "      <td>0.0</td>\n",
       "      <td>14.70</td>\n",
       "      <td>20.79</td>\n",
       "      <td>5.0</td>\n",
       "    </tr>\n",
       "    <tr>\n",
       "      <th>134</th>\n",
       "      <td>0.00</td>\n",
       "      <td>0.00</td>\n",
       "      <td>0.0</td>\n",
       "      <td>135.0</td>\n",
       "      <td>16.62</td>\n",
       "      <td>18.99</td>\n",
       "      <td>8.0</td>\n",
       "      <td>0.00</td>\n",
       "      <td>0.00</td>\n",
       "      <td>0.0</td>\n",
       "      <td>16.62</td>\n",
       "      <td>25.59</td>\n",
       "      <td>8.0</td>\n",
       "    </tr>\n",
       "    <tr>\n",
       "      <th>135</th>\n",
       "      <td>0.00</td>\n",
       "      <td>0.00</td>\n",
       "      <td>0.0</td>\n",
       "      <td>136.0</td>\n",
       "      <td>10.02</td>\n",
       "      <td>10.62</td>\n",
       "      <td>2.0</td>\n",
       "      <td>0.00</td>\n",
       "      <td>0.00</td>\n",
       "      <td>0.0</td>\n",
       "      <td>10.02</td>\n",
       "      <td>19.56</td>\n",
       "      <td>3.0</td>\n",
       "    </tr>\n",
       "    <tr>\n",
       "      <th>136</th>\n",
       "      <td>0.00</td>\n",
       "      <td>0.00</td>\n",
       "      <td>0.0</td>\n",
       "      <td>137.0</td>\n",
       "      <td>6.96</td>\n",
       "      <td>7.08</td>\n",
       "      <td>2.0</td>\n",
       "      <td>0.00</td>\n",
       "      <td>0.00</td>\n",
       "      <td>0.0</td>\n",
       "      <td>6.96</td>\n",
       "      <td>18.00</td>\n",
       "      <td>2.0</td>\n",
       "    </tr>\n",
       "  </tbody>\n",
       "</table>\n",
       "<p>137 rows × 13 columns</p>\n",
       "</div>"
      ],
      "text/plain": [
       "     chus_overlap  chus_speak  chus_turns  frame  luis_overlap  luis_speak  \\\n",
       "0            0.00        0.00         0.0    1.0          2.34       20.58   \n",
       "1            0.09        0.75         1.0    2.0          0.00       23.97   \n",
       "2            0.00        0.00         0.0    3.0          0.00       24.75   \n",
       "3            0.00        0.00         0.0    4.0          0.00       16.08   \n",
       "4            0.00        0.00         0.0    5.0          0.99       10.71   \n",
       "..            ...         ...         ...    ...           ...         ...   \n",
       "132          0.00        0.00         0.0  133.0         27.09       28.41   \n",
       "133          0.00        0.00         0.0  134.0         14.70       16.23   \n",
       "134          0.00        0.00         0.0  135.0         16.62       18.99   \n",
       "135          0.00        0.00         0.0  136.0         10.02       10.62   \n",
       "136          0.00        0.00         0.0  137.0          6.96        7.08   \n",
       "\n",
       "     luis_turns  pankaj_overlap  pankaj_speak  pankaj_turns  shashi_overlap  \\\n",
       "0           4.0            1.53          1.98           1.0            0.81   \n",
       "1           1.0            0.00          0.81           1.0            0.09   \n",
       "2           1.0            0.00          0.00           0.0            0.00   \n",
       "3           2.0            0.00          0.00           0.0            0.00   \n",
       "4           2.0            0.00          0.00           0.0            0.99   \n",
       "..          ...             ...           ...           ...             ...   \n",
       "132         5.0            0.00          0.00           0.0           27.09   \n",
       "133         5.0            0.00          0.00           0.0           14.70   \n",
       "134         8.0            0.00          0.00           0.0           16.62   \n",
       "135         2.0            0.00          0.00           0.0           10.02   \n",
       "136         2.0            0.00          0.00           0.0            6.96   \n",
       "\n",
       "     shashi_speak  shashi_turns  \n",
       "0            1.65           3.0  \n",
       "1            0.81           1.0  \n",
       "2            0.45           1.0  \n",
       "3            0.51           1.0  \n",
       "4            3.12           1.0  \n",
       "..            ...           ...  \n",
       "132         29.52           5.0  \n",
       "133         20.79           5.0  \n",
       "134         25.59           8.0  \n",
       "135         19.56           3.0  \n",
       "136         18.00           2.0  \n",
       "\n",
       "[137 rows x 13 columns]"
      ]
     },
     "execution_count": 317,
     "metadata": {},
     "output_type": "execute_result"
    }
   ],
   "source": [
    "f"
   ]
  },
  {
   "cell_type": "markdown",
   "metadata": {},
   "source": [
    "# OpenFace Feature Analysis\n",
    "The following code analyses the OpenFace features."
   ]
  },
  {
   "cell_type": "code",
   "execution_count": null,
   "metadata": {},
   "outputs": [],
   "source": []
  },
  {
   "cell_type": "code",
   "execution_count": 95,
   "metadata": {},
   "outputs": [],
   "source": [
    "of = pd.read_csv('Video_11_1.csv')"
   ]
  },
  {
   "cell_type": "code",
   "execution_count": 97,
   "metadata": {},
   "outputs": [
    {
     "data": {
      "text/plain": [
       "array([0, 1, 2, 3])"
      ]
     },
     "execution_count": 97,
     "metadata": {},
     "output_type": "execute_result"
    }
   ],
   "source": [
    "of.face_id.unique()"
   ]
  },
  {
   "cell_type": "code",
   "execution_count": 98,
   "metadata": {},
   "outputs": [],
   "source": [
    "shashi_of = of.loc[of.face_id == 0,:]"
   ]
  },
  {
   "cell_type": "code",
   "execution_count": 99,
   "metadata": {},
   "outputs": [
    {
     "data": {
      "text/plain": [
       "(75150, 714)"
      ]
     },
     "execution_count": 99,
     "metadata": {},
     "output_type": "execute_result"
    }
   ],
   "source": [
    "shashi_of.shape"
   ]
  },
  {
   "cell_type": "code",
   "execution_count": 100,
   "metadata": {},
   "outputs": [
    {
     "data": {
      "text/plain": [
       "3006.0"
      ]
     },
     "execution_count": 100,
     "metadata": {},
     "output_type": "execute_result"
    }
   ],
   "source": []
  },
  {
   "cell_type": "code",
   "execution_count": 216,
   "metadata": {},
   "outputs": [
    {
     "name": "stderr",
     "output_type": "stream",
     "text": [
      "100%|██████████| 100/100 [00:00<00:00, 1173.01it/s]\n",
      "100%|██████████| 2/2 [00:00<00:00, 29.93it/s]"
     ]
    },
    {
     "name": "stdout",
     "output_type": "stream",
     "text": [
      "-------------------- \n",
      " Checking multiplex edges.. \n",
      " --------------------\n",
      "-------------------- \n",
      " Network splitting in progress \n",
      " --------------------\n",
      "BarnesHut Approximation  took  0.02  seconds\n",
      "Repulsion forces  took  0.04  seconds\n",
      "Gravitational forces  took  0.00  seconds\n",
      "Attraction forces  took  0.01  seconds\n",
      "AdjustSpeedAndApplyForces step  took  0.01  seconds\n",
      "Finished with layout..\n",
      "Name: \n",
      "Type: MultiGraph\n",
      "Number of nodes: 4\n",
      "Number of edges: 2\n",
      "Average degree:   1.0000\n",
      "Name: \n",
      "Type: MultiGraph\n",
      "Number of nodes: 4\n",
      "Number of edges: 3\n",
      "Average degree:   1.5000\n",
      "Name: \n",
      "Type: MultiGraph\n",
      "Number of nodes: 4\n",
      "Number of edges: 1\n",
      "Average degree:   0.5000\n"
     ]
    },
    {
     "name": "stderr",
     "output_type": "stream",
     "text": [
      "\n"
     ]
    },
    {
     "data": {
      "image/png": "[encoded data removed]",
      "text/plain": [
       "<Figure size 432x288 with 1 Axes>"
      ]
     },
     "metadata": {},
     "output_type": "display_data"
    }
   ],
   "source": [
    "from py3plex.visualization.embedding_visualization import embedding_tools\n",
    "from py3plex.wrappers import train_node2vec_embedding\n",
    "import argparse\n",
    "from collections import Counter\n",
    "from py3plex.visualization.colors import colors_default\n",
    "from py3plex.algorithms.community_detection import community_wrapper as cw\n",
    "from py3plex.visualization.multilayer import draw_multiedges, draw_multilayer_default, hairball_plot, plt\n",
    "from py3plex.core import multinet\n",
    "\n",
    "\n",
    "\n",
    "\n",
    "# visualization from a simple file\n",
    "multilayer_network = multinet.multi_layer_network(network_type = \"multiplex\").load_network(\n",
    "    \"edgeList.txt\",input_type=\"multiplex_edges\")\n",
    "multilayer_network.visualize_network()\n",
    "plt.show()"
   ]
  },
  {
   "cell_type": "code",
   "execution_count": null,
   "metadata": {},
   "outputs": [],
   "source": []
  }
 ],
 "metadata": {
  "kernelspec": {
   "display_name": "Python 3",
   "language": "python",
   "name": "python3"
  },
  "language_info": {
   "codemirror_mode": {
    "name": "ipython",
    "version": 3
   },
   "file_extension": ".py",
   "mimetype": "text/x-python",
   "name": "python",
   "nbconvert_exporter": "python",
   "pygments_lexer": "ipython3",
   "version": "3.8.5"
  }
 },
 "nbformat": 4,
 "nbformat_minor": 4
}
