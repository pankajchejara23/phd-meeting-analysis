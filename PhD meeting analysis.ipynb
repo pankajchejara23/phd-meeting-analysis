{
 "cells": [
  {
   "cell_type": "markdown",
   "metadata": {},
   "source": [
    "# PhD Meeting Data Analysis \n",
    "This notebook presents analysis of PhD meeting dataset collected from meetings regularily held in Tallinn University between supervisors and PhD students.\n"
   ]
  },
  {
   "cell_type": "markdown",
   "metadata": {},
   "source": [
    "The analyzed dataset is collected 20th August 2021 using CoTrack tool."
   ]
  },
  {
   "cell_type": "markdown",
   "metadata": {},
   "source": [
    "## Voice Activity Detection Analysis\n",
    "To check the performance of voice activity detection using Python library, I annotated first 20 minutes of audio of PhD student who reported the PhD progress during the meeting.\n",
    "\n",
    "The annotation was done using Praat tool. The following script transform the Praat annotations into format that can be analyzed using pyannote library."
   ]
  },
  {
   "cell_type": "code",
   "execution_count": 61,
   "metadata": {},
   "outputs": [],
   "source": [
    "from pyannote.core import Annotation, Segment, Timeline, notebook\n",
    "from pyannote.metrics import detection\n",
    "import matplotlib.pyplot as plt\n",
    "from itertools import combinations\n",
    "import datetime\n",
    "import pandas as pd\n",
    "import collections\n",
    "import contextlib\n",
    "import sys\n",
    "import wave\n",
    "import networkx as nx\n",
    "import webrtcvad"
   ]
  },
  {
   "cell_type": "code",
   "execution_count": 4,
   "metadata": {},
   "outputs": [],
   "source": [
    "\"\"\"\n",
    "This code reads Praat annotation file and load it as a Pandas DataFrame.\n",
    "\"\"\"\n",
    "def trim_white_newline(string):\n",
    "    new_list = list()\n",
    "    for item in string:\n",
    "        if item == '' or item == '\\n':\n",
    "            pass\n",
    "        else:\n",
    "            new_list.append(item)\n",
    "    return new_list\n",
    "\n",
    "# Open Praat Transcribe File\n",
    "f = open('11_1_172_Final_file_1628860913000_IND_Audio.TextGrid')\n",
    "\n",
    "# Read lines from the file\n",
    "lines = f.readlines()\n",
    "\n",
    "# Create a empty dataframe for storing transcribe data\n",
    "df = pd.DataFrame(columns = [\"start\",\"end\",\"user\"])\n",
    "\n",
    "\n",
    "line_count = 0\n",
    "read_flag = False\n",
    "\n",
    "# Iterate over all lines one by one\n",
    "for line in lines:\n",
    "    #print('processing:',line)\n",
    "    # read flag is true. This flag specify that the next line is the data line.\n",
    "    if read_flag == True:\n",
    "\n",
    "        # Increase line count\n",
    "        line_count = line_count + 1\n",
    "\n",
    "        # Condition to read only three lines. Each data transciption has three lines.\n",
    "        if line_count < 4:\n",
    "            # Split the line using space.\n",
    "            words = line.split(\" \")\n",
    "\n",
    "            # Remove white spaces\n",
    "            words = trim_white_newline(words)\n",
    "\n",
    "            # First token as start time of the frame\n",
    "            if line_count == 1:\n",
    "                start = float(words[2])\n",
    "            # Second token as end time of the frame\n",
    "            if line_count == 2:\n",
    "                end = float(words[2])\n",
    "            # third token as annotatation\n",
    "            if line_count == 3:\n",
    "                user = words[2].strip()\n",
    "                user = user.replace('\"','')\n",
    "                line_count=0\n",
    "                read_flag = False\n",
    "                #print('  added')\n",
    "                # Append data to dataframe\n",
    "                df = df.append({'start':start,'end':end,'user':user},ignore_index = True)\n",
    "\n",
    "    # Condition to check if current line has 'intervals [' string\n",
    "    elif line.find('intervals [')==-1:\n",
    "        pass\n",
    "    else:\n",
    "        read_flag = True\n",
    "\n",
    "# Computer annotated window time\n",
    "df[\"speaking\"] = df[\"end\"] - df[\"start\"]\n",
    "\n",
    "df.drop(df.tail(1).index,inplace=True)\n",
    "# Save to csv format.\n",
    "df.to_csv('annotated.csv') "
   ]
  },
  {
   "cell_type": "code",
   "execution_count": 6,
   "metadata": {},
   "outputs": [
    {
     "data": {
      "text/html": [
       "<div>\n",
       "<style scoped>\n",
       "    .dataframe tbody tr th:only-of-type {\n",
       "        vertical-align: middle;\n",
       "    }\n",
       "\n",
       "    .dataframe tbody tr th {\n",
       "        vertical-align: top;\n",
       "    }\n",
       "\n",
       "    .dataframe thead th {\n",
       "        text-align: right;\n",
       "    }\n",
       "</style>\n",
       "<table border=\"1\" class=\"dataframe\">\n",
       "  <thead>\n",
       "    <tr style=\"text-align: right;\">\n",
       "      <th></th>\n",
       "      <th>start</th>\n",
       "      <th>end</th>\n",
       "      <th>user</th>\n",
       "      <th>speaking</th>\n",
       "    </tr>\n",
       "  </thead>\n",
       "  <tbody>\n",
       "    <tr>\n",
       "      <th>5</th>\n",
       "      <td>18.074814</td>\n",
       "      <td>18.801147</td>\n",
       "      <td>1</td>\n",
       "      <td>0.726334</td>\n",
       "    </tr>\n",
       "    <tr>\n",
       "      <th>7</th>\n",
       "      <td>19.479059</td>\n",
       "      <td>20.253815</td>\n",
       "      <td>1</td>\n",
       "      <td>0.774756</td>\n",
       "    </tr>\n",
       "    <tr>\n",
       "      <th>9</th>\n",
       "      <td>31.302242</td>\n",
       "      <td>32.176249</td>\n",
       "      <td>1</td>\n",
       "      <td>0.874007</td>\n",
       "    </tr>\n",
       "    <tr>\n",
       "      <th>15</th>\n",
       "      <td>53.538445</td>\n",
       "      <td>54.058125</td>\n",
       "      <td>1</td>\n",
       "      <td>0.519680</td>\n",
       "    </tr>\n",
       "    <tr>\n",
       "      <th>23</th>\n",
       "      <td>65.697326</td>\n",
       "      <td>66.240628</td>\n",
       "      <td>1</td>\n",
       "      <td>0.543302</td>\n",
       "    </tr>\n",
       "  </tbody>\n",
       "</table>\n",
       "</div>"
      ],
      "text/plain": [
       "        start        end user  speaking\n",
       "5   18.074814  18.801147    1  0.726334\n",
       "7   19.479059  20.253815    1  0.774756\n",
       "9   31.302242  32.176249    1  0.874007\n",
       "15  53.538445  54.058125    1  0.519680\n",
       "23  65.697326  66.240628    1  0.543302"
      ]
     },
     "execution_count": 6,
     "metadata": {},
     "output_type": "execute_result"
    }
   ],
   "source": [
    "ground_truth = df.copy()\n",
    "\n",
    "# extract speach regions only\n",
    "speak_gd = ground_truth.loc[ground_truth.user=='1',:]\n",
    "speak_gd.head()"
   ]
  },
  {
   "cell_type": "markdown",
   "metadata": {},
   "source": [
    "## Analyzing VAD using python's library\n",
    "The VAD data which were obtained from CoTrack tool had some issues. It was observed that during the data recording session, on one of the participant's system, the tool was continously detecting voice activity wrongly. Therefore, for analysis purposes, another library was used to extract VAD data from audios and the accuracy was measured."
   ]
  },
  {
   "cell_type": "code",
   "execution_count": 9,
   "metadata": {},
   "outputs": [],
   "source": [
    "def read_wave(path):\n",
    "    \"\"\"Reads a .wav file.\n",
    "    Takes the path, and returns (PCM audio data, sample rate).\n",
    "    \"\"\"\n",
    "    with contextlib.closing(wave.open(path, 'rb')) as wf:\n",
    "        num_channels = wf.getnchannels()\n",
    "        assert num_channels == 1\n",
    "        sample_width = wf.getsampwidth()\n",
    "        assert sample_width == 2\n",
    "        sample_rate = wf.getframerate()\n",
    "        assert sample_rate in (8000, 16000, 32000, 48000)\n",
    "        pcm_data = wf.readframes(wf.getnframes())\n",
    "        return pcm_data, sample_rate\n",
    "\n",
    "\n",
    "def write_wave(path, audio, sample_rate):\n",
    "    \"\"\"Writes a .wav file.\n",
    "\n",
    "    Takes path, PCM audio data, and sample rate.\n",
    "    \"\"\"\n",
    "    with contextlib.closing(wave.open(path, 'wb')) as wf:\n",
    "        wf.setnchannels(1)\n",
    "        wf.setsampwidth(2)\n",
    "        wf.setframerate(sample_rate)\n",
    "        wf.writeframes(audio)\n",
    "\n",
    "\n",
    "class Frame(object):\n",
    "    \"\"\"Represents a \"frame\" of audio data.\"\"\"\n",
    "    def __init__(self, bytes, timestamp, duration):\n",
    "        self.bytes = bytes\n",
    "        self.timestamp = timestamp\n",
    "        self.duration = duration\n",
    "\n",
    "\n",
    "def frame_generator(frame_duration_ms, audio, sample_rate):\n",
    "    \"\"\"Generates audio frames from PCM audio data.\n",
    "\n",
    "    Takes the desired frame duration in milliseconds, the PCM data, and\n",
    "    the sample rate.\n",
    "\n",
    "    Yields Frames of the requested duration.\n",
    "    \"\"\"\n",
    "    n = int(sample_rate * (frame_duration_ms / 1000.0) * 2)\n",
    "    offset = 0\n",
    "    timestamp = 0.0\n",
    "    duration = (float(n) / sample_rate) / 2.0\n",
    "    while offset + n < len(audio):\n",
    "        yield Frame(audio[offset:offset + n], timestamp, duration)\n",
    "        timestamp += duration\n",
    "        offset += n\n",
    "\n",
    "\n",
    "def vad_collector(sample_rate, frame_duration_ms,\n",
    "                  padding_duration_ms, vad, frames):\n",
    "    \"\"\"Filters out non-voiced audio frames.\n",
    "\n",
    "    Given a webrtcvad.Vad and a source of audio frames, yields only\n",
    "    the voiced audio.\n",
    "\n",
    "    Uses a padded, sliding window algorithm over the audio frames.\n",
    "    When more than 90% of the frames in the window are voiced (as\n",
    "    reported by the VAD), the collector triggers and begins yielding\n",
    "    audio frames. Then the collector waits until 90% of the frames in\n",
    "    the window are unvoiced to detrigger.\n",
    "\n",
    "    The window is padded at the front and back to provide a small\n",
    "    amount of silence or the beginnings/endings of speech around the\n",
    "    voiced frames.\n",
    "\n",
    "    Arguments:\n",
    "\n",
    "    sample_rate - The audio sample rate, in Hz.\n",
    "    frame_duration_ms - The frame duration in milliseconds.\n",
    "    padding_duration_ms - The amount to pad the window, in milliseconds.\n",
    "    vad - An instance of webrtcvad.Vad.\n",
    "    frames - a source of audio frames (sequence or generator).\n",
    "\n",
    "    Returns: A generator that yields PCM audio data.\n",
    "    \"\"\"\n",
    "    # Create a empty dataframe for storing transcribe data\n",
    "    vad_df = pd.DataFrame(columns = [\"start\",\"end\",\"user\"])\n",
    "    num_padding_frames = int(padding_duration_ms / frame_duration_ms)\n",
    "    # We use a deque for our sliding window/ring buffer.\n",
    "    ring_buffer = collections.deque(maxlen=num_padding_frames)\n",
    "    # We have two states: TRIGGERED and NOTTRIGGERED. We start in the\n",
    "    # NOTTRIGGERED state.\n",
    "    triggered = False\n",
    "\n",
    "    voiced_frames = []\n",
    "    for frame in frames:\n",
    "        is_speech = vad.is_speech(frame.bytes, sample_rate)\n",
    "\n",
    "        #sys.stdout.write('1' if is_speech else '0')\n",
    "        if not triggered:\n",
    "            ring_buffer.append((frame, is_speech))\n",
    "            num_voiced = len([f for f, speech in ring_buffer if speech])\n",
    "            # If we're NOTTRIGGERED and more than 90% of the frames in\n",
    "            # the ring buffer are voiced frames, then enter the\n",
    "            # TRIGGERED state.\n",
    "            if num_voiced > 0.9 * ring_buffer.maxlen:\n",
    "                triggered = True\n",
    "                start = ring_buffer[0][0].timestamp\n",
    "                #sys.stdout.write('Timestamp:(%s)' % (ring_buffer[0][0].timestamp,))\n",
    "                # We want to yield all the audio we see from now until\n",
    "                # we are NOTTRIGGERED, but we have to start with the\n",
    "                # audio that's already in the ring buffer.\n",
    "                for f, s in ring_buffer:\n",
    "                    voiced_frames.append(f)\n",
    "                ring_buffer.clear()\n",
    "        else:\n",
    "            # We're in the TRIGGERED state, so collect the audio data\n",
    "            # and add it to the ring buffer.\n",
    "            voiced_frames.append(frame)\n",
    "            ring_buffer.append((frame, is_speech))\n",
    "            num_unvoiced = len([f for f, speech in ring_buffer if not speech])\n",
    "            # If more than 90% of the frames in the ring buffer are\n",
    "            # unvoiced, then enter NOTTRIGGERED and yield whatever\n",
    "            # audio we've collected.\n",
    "            if num_unvoiced > 0.9 * ring_buffer.maxlen:\n",
    "                end = ring_buffer[0][0].timestamp\n",
    "                #sys.stdout.write('End:(%s)' % (frame.timestamp + frame.duration))\n",
    "                triggered = False\n",
    "                #yield b''.join([f.bytes for f in voiced_frames])\n",
    "                ring_buffer.clear()\n",
    "                vad_df = vad_df.append({'start':start,'end':end,'user':user},ignore_index = True)\n",
    "                voiced_frames = []\n",
    "    if triggered:\n",
    "        sys.stdout.write('-(%s)' % (frame.timestamp + frame.duration))\n",
    "    #sys.stdout.write('\\n')\n",
    "    # If we have any leftover voiced audio when we run out of input,\n",
    "    # yield it.\n",
    "    return vad_df\n",
    "\n",
    "\n",
    "\n",
    "vad = webrtcvad.Vad(3)   \n",
    "audio, sample_rate = read_wave('./11_1_172_Final_file_1628860913000_IND_Audio.wav')\n",
    "\n",
    "frames = frame_generator(30, audio, sample_rate)\n",
    "frames = list(frames)\n",
    "segments = vad_collector(sample_rate, 20, 300, vad, frames)"
   ]
  },
  {
   "cell_type": "code",
   "execution_count": 10,
   "metadata": {},
   "outputs": [],
   "source": [
    "# Shashi audio vad analysis\n",
    "shashi_audio,sample_rate = read_wave('./11_1_172_Final_file_1628860913000_IND_Audio.wav')\n",
    "frames = frame_generator(30, shashi_audio, sample_rate)\n",
    "frames = list(frames)\n",
    "shashi_segments = vad_collector(sample_rate, 20, 300, vad, frames)"
   ]
  },
  {
   "cell_type": "code",
   "execution_count": 11,
   "metadata": {},
   "outputs": [],
   "source": [
    "# Pankaj audio vad analysis\n",
    "pankaj_audio,sample_rate = read_wave('./11_1_1_Final_file_1628859941379_IND_Audio.wav')\n",
    "frames = frame_generator(30, pankaj_audio, sample_rate)\n",
    "frames = list(frames)\n",
    "pankaj_segments = vad_collector(sample_rate, 20, 300, vad, frames)"
   ]
  },
  {
   "cell_type": "code",
   "execution_count": 12,
   "metadata": {},
   "outputs": [],
   "source": [
    "# Luis audio vad analysis\n",
    "luis_audio,sample_rate = read_wave('./11_1_153_Final_file_1628860913138_IND_Audio.wav')\n",
    "frames = frame_generator(30, luis_audio, sample_rate)\n",
    "frames = list(frames)\n",
    "luis_segments = vad_collector(sample_rate, 20, 300, vad, frames)"
   ]
  },
  {
   "cell_type": "code",
   "execution_count": 13,
   "metadata": {},
   "outputs": [],
   "source": [
    "# Chus audio vad analysis\n",
    "chus_audio,sample_rate = read_wave('./11_1_155_Final_file_1628859613760_IND_Audio.wav')\n",
    "frames = frame_generator(30, chus_audio, sample_rate)\n",
    "frames = list(frames)\n",
    "chus_segments = vad_collector(sample_rate, 20, 300, vad, frames)"
   ]
  },
  {
   "cell_type": "markdown",
   "metadata": {},
   "source": [
    "### Performance evaluation of VAD method\n"
   ]
  },
  {
   "cell_type": "code",
   "execution_count": 14,
   "metadata": {},
   "outputs": [],
   "source": [
    "# Extract first 20 minutes of VAD data for comparision with ground-truth\n",
    "vad_segments= segments.loc[segments.start < 1676,:]"
   ]
  },
  {
   "cell_type": "code",
   "execution_count": 16,
   "metadata": {},
   "outputs": [],
   "source": [
    "# To evalute, we used PyAnnote library\n",
    "\n",
    "# Create annotation generated by VAD library\n",
    "vad_seg_an = Annotation()\n",
    "for i in range(vad_segments.shape[0]):\n",
    "    record = vad_segments.loc[i,:]\n",
    "    vad_seg_an[Segment(record['start'], record['end']), '_'] = 'pyvad'\n",
    "\n",
    "# Create annotation of ground-truth\n",
    "gd_an = Annotation()\n",
    "speak_gd.reset_index(inplace=True)\n",
    "for i in range(speak_gd.shape[0]):\n",
    "    record = speak_gd.loc[i,:]\n",
    "    gd_an[Segment(record['start'], record['end']), '_'] = 'gd'"
   ]
  },
  {
   "cell_type": "code",
   "execution_count": 17,
   "metadata": {},
   "outputs": [
    {
     "data": {
      "image/png": "[encoded data removed]",
      "text/plain": [
       "<pyannote.core.annotation.Annotation at 0x7f867f2eb0a0>"
      ]
     },
     "execution_count": 17,
     "metadata": {},
     "output_type": "execute_result"
    }
   ],
   "source": [
    "vad_seg_an"
   ]
  },
  {
   "cell_type": "code",
   "execution_count": 18,
   "metadata": {},
   "outputs": [
    {
     "data": {
      "image/png": "[encoded data removed]",
      "text/plain": [
       "<pyannote.core.annotation.Annotation at 0x7f86b3fd2fd0>"
      ]
     },
     "execution_count": 18,
     "metadata": {},
     "output_type": "execute_result"
    }
   ],
   "source": [
    "gd_an"
   ]
  },
  {
   "cell_type": "code",
   "execution_count": 20,
   "metadata": {},
   "outputs": [],
   "source": [
    "# Computing accuracy, error rate and cost function\n",
    "det_acc = detection.DetectionAccuracy()\n",
    "det_err = detection.DetectionErrorRate()\n",
    "det_cf = detection.DetectionCostFunction()"
   ]
  },
  {
   "cell_type": "code",
   "execution_count": 21,
   "metadata": {},
   "outputs": [
    {
     "name": "stdout",
     "output_type": "stream",
     "text": [
      "Detection accuracy: 0.9443070805453685\n",
      "Detection error rate: 0.25243702478729363\n",
      "Detection cost function: 0.061424020959540235\n"
     ]
    },
    {
     "name": "stderr",
     "output_type": "stream",
     "text": [
      "/Users/pankaj/opt/anaconda3/lib/python3.8/site-packages/pyannote/metrics/utils.py:183: UserWarning: 'uem' was approximated by the union of 'reference' and 'hypothesis' extents.\n",
      "  warnings.warn(\n"
     ]
    }
   ],
   "source": [
    "print('Detection accuracy:',det_acc.compute_metric(det_acc.compute_components(vad_seg_an,gd_an)))\n",
    "print('Detection error rate:',det_err.compute_metric(det_err.compute_components(vad_seg_an,gd_an)))\n",
    "print('Detection cost function:',det_cf.compute_metric(det_cf.compute_components(vad_seg_an,gd_an)))"
   ]
  },
  {
   "cell_type": "markdown",
   "metadata": {},
   "source": [
    "The detection accuracy was found to be 94%. "
   ]
  },
  {
   "cell_type": "markdown",
   "metadata": {},
   "source": [
    "## Analysis of VAD for all participants"
   ]
  },
  {
   "cell_type": "code",
   "execution_count": 22,
   "metadata": {},
   "outputs": [],
   "source": [
    "all_an = Annotation()\n",
    "for i in range(shashi_segments.shape[0]):\n",
    "    record = shashi_segments.loc[i,:]\n",
    "    all_an[Segment(record['start'], record['end']), '1'] = 'shashi'\n",
    "for i in range(luis_segments.shape[0]):\n",
    "    record = luis_segments.loc[i,:]\n",
    "    all_an[Segment(record['start'], record['end']), '2'] = 'luis'\n",
    "for i in range(pankaj_segments.shape[0]):\n",
    "    record = pankaj_segments.loc[i,:]\n",
    "    all_an[Segment(record['start'], record['end']), '3'] = 'pankaj'\n",
    "for i in range(chus_segments.shape[0]):\n",
    "    record = chus_segments.loc[i,:]\n",
    "    all_an[Segment(record['start'], record['end']), '4'] = 'chus'"
   ]
  },
  {
   "cell_type": "code",
   "execution_count": 24,
   "metadata": {},
   "outputs": [
    {
     "data": {
      "image/png": "[encoded data removed]",
      "text/plain": [
       "<Figure size 432x288 with 1 Axes>"
      ]
     },
     "metadata": {
      "needs_background": "light"
     },
     "output_type": "display_data"
    }
   ],
   "source": [
    "chart = all_an.chart(percent=True)\n",
    "x = [i for i in range(len(chart))]\n",
    "labels = [i[0] for i in chart]\n",
    "plt.bar(x,[i[1] for i in chart])\n",
    "plt.xticks(x, labels, rotation='vertical')\n",
    "plt.ylabel('% of total speaking time')\n",
    "plt.title('Speaking time distribution')\n",
    "plt.show()"
   ]
  },
  {
   "cell_type": "code",
   "execution_count": 25,
   "metadata": {},
   "outputs": [
    {
     "data": {
      "image/png": "[encoded data removed]",
      "text/plain": [
       "<pyannote.core.annotation.Annotation at 0x7f86809f52e0>"
      ]
     },
     "execution_count": 25,
     "metadata": {},
     "output_type": "execute_result"
    }
   ],
   "source": [
    "# Plotting speaking sequence for all the participants\n",
    "all_an"
   ]
  },
  {
   "cell_type": "markdown",
   "metadata": {},
   "source": [
    "In above figure, voice activity for pankaj is wrongly detected. Actually, there was a person speaking however that was detected for pankaj's voice. This is the case which highlight the issue with voice activity-based detection methods with noisy settings."
   ]
  },
  {
   "cell_type": "markdown",
   "metadata": {},
   "source": [
    "### Plotting overlap between participants pair"
   ]
  },
  {
   "cell_type": "code",
   "execution_count": 26,
   "metadata": {},
   "outputs": [],
   "source": [
    "timelines = {}\n",
    "timelines['luis'] = all_an.label_timeline('luis')\n",
    "timelines['pankaj'] = all_an.label_timeline('pankaj')\n",
    "timelines['shashi'] = all_an.label_timeline('shashi')\n",
    "timelines['chus'] = all_an.label_timeline('chus')\n"
   ]
  },
  {
   "cell_type": "code",
   "execution_count": 28,
   "metadata": {},
   "outputs": [],
   "source": [
    "# luis pankaj overlap\n",
    "overlap_all = Annotation()\n",
    "overlap_annotations = {}\n",
    "for group in combinations(['luis','pankaj','chus','shashi'],2):\n",
    "    key = '_'.join(group)\n",
    "    #print(key)\n",
    "    if key not in overlap_annotations.keys():\n",
    "        overlap_annotations[key] = Annotation()\n",
    "    for seg1,seg2 in timelines[group[0]].co_iter(timelines[group[1]]):\n",
    "        inter = seg1 & seg2\n",
    "        overlap_annotations[key][inter] = key\n",
    "        overlap_all[inter] = key\n",
    "        \n",
    "   "
   ]
  },
  {
   "cell_type": "code",
   "execution_count": 29,
   "metadata": {},
   "outputs": [
    {
     "data": {
      "image/png": "[encoded data removed]",
      "text/plain": [
       "<pyannote.core.annotation.Annotation at 0x7f86817a53d0>"
      ]
     },
     "execution_count": 29,
     "metadata": {},
     "output_type": "execute_result"
    }
   ],
   "source": [
    "overlap_annotations['luis_shashi']"
   ]
  },
  {
   "cell_type": "code",
   "execution_count": 30,
   "metadata": {},
   "outputs": [
    {
     "data": {
      "image/png": "[encoded data removed]",
      "text/plain": [
       "<pyannote.core.annotation.Annotation at 0x7f86817a5490>"
      ]
     },
     "execution_count": 30,
     "metadata": {},
     "output_type": "execute_result"
    }
   ],
   "source": [
    "overlap_annotations['luis_chus']"
   ]
  },
  {
   "cell_type": "code",
   "execution_count": 31,
   "metadata": {},
   "outputs": [
    {
     "data": {
      "image/png": "[encoded data removed]",
      "text/plain": [
       "<pyannote.core.annotation.Annotation at 0x7f867f666040>"
      ]
     },
     "execution_count": 31,
     "metadata": {},
     "output_type": "execute_result"
    }
   ],
   "source": [
    "overlap_annotations['pankaj_chus']"
   ]
  },
  {
   "cell_type": "code",
   "execution_count": 32,
   "metadata": {},
   "outputs": [
    {
     "data": {
      "image/png": "[encoded data removed]",
      "text/plain": [
       "<pyannote.core.annotation.Annotation at 0x7f867f6832b0>"
      ]
     },
     "execution_count": 32,
     "metadata": {},
     "output_type": "execute_result"
    }
   ],
   "source": [
    "overlap_annotations['chus_shashi']"
   ]
  },
  {
   "cell_type": "code",
   "execution_count": 33,
   "metadata": {},
   "outputs": [
    {
     "data": {
      "image/png": "[encoded data removed]",
      "text/plain": [
       "<pyannote.core.annotation.Annotation at 0x7f86817a5520>"
      ]
     },
     "execution_count": 33,
     "metadata": {},
     "output_type": "execute_result"
    }
   ],
   "source": [
    "overlap_all"
   ]
  },
  {
   "cell_type": "markdown",
   "metadata": {},
   "source": [
    "### Network generation\n",
    "Here, we will generate a network showing who was speaking after whom. The node size will show the speaking time and the edge width will show the frequency of communication between participants of corresponding nodes."
   ]
  },
  {
   "cell_type": "code",
   "execution_count": 59,
   "metadata": {},
   "outputs": [
    {
     "name": "stdout",
     "output_type": "stream",
     "text": [
      "850\n"
     ]
    }
   ],
   "source": [
    "edge_list = generateEdgeList(all_an)"
   ]
  },
  {
   "cell_type": "code",
   "execution_count": 60,
   "metadata": {},
   "outputs": [],
   "source": [
    "total_edges = len(edge_list)"
   ]
  },
  {
   "cell_type": "code",
   "execution_count": 70,
   "metadata": {},
   "outputs": [
    {
     "data": {
      "text/plain": [
       "[('luis', 0.4769481903081484),\n",
       " ('shashi', 0.38706671770886186),\n",
       " ('pankaj', 0.08380703363678847),\n",
       " ('chus', 0.052178058346201275)]"
      ]
     },
     "execution_count": 70,
     "metadata": {},
     "output_type": "execute_result"
    }
   ],
   "source": [
    "chart = all_an.chart(percent=True)\n",
    "chart"
   ]
  },
  {
   "cell_type": "code",
   "execution_count": 64,
   "metadata": {},
   "outputs": [],
   "source": [
    "def generateEdgeList(all_an):\n",
    "    \n",
    "    df = pd.DataFrame(columns=['start','end','label'])\n",
    "    for segment, _, label in all_an.itertracks(yield_label=True):\n",
    "        df = df.append({'start':segment.start,'end':segment.end,'label':label},ignore_index=True)\n",
    "    df['duration'] = df['end'] - df['start']\n",
    "\n",
    "    sequence = df['label'].to_list()\n",
    "    labels = df['label'].unique()\n",
    "\n",
    "    turn_df = pd.DataFrame(columns=['label','conti_frequency'])\n",
    "\n",
    "    # This function will count the number of continuous occurence\n",
    "    def count_conti_occurence(index):\n",
    "\n",
    "        # Set count to 0\n",
    "        count=0\n",
    "\n",
    "        # Starts from the given index\n",
    "        j = index\n",
    "\n",
    "        # Loop to iterate over the users sequence\n",
    "        while j<len(sequence):\n",
    "\n",
    "            # Increase the count if the element at given index (parameter) is same as the iterated element\n",
    "            if sequence[j] == sequence[index]:\n",
    "                count +=1\n",
    "\n",
    "            # If mismatch found, break the loop\n",
    "            else:\n",
    "                break\n",
    "\n",
    "            # Increases j\n",
    "            j +=1\n",
    "\n",
    "        # Return number of count for sequence[index] and index of first next occurence of different element.\n",
    "        return count,(j-index)\n",
    "\n",
    "    # Set i to 0 for the Loop\n",
    "    i = 0\n",
    "\n",
    "    # Iterate for entire sequence of users\n",
    "    while i < len(sequence):\n",
    "\n",
    "        # Call count_conti_occurence() function\n",
    "        count,diff = count_conti_occurence(i)\n",
    "\n",
    "        # Add continuous frequency of current user (sequence[i]) to the dataframe\n",
    "        turn_df = turn_df.append({'label':sequence[i],'conti_frequency':count},ignore_index=True)\n",
    "\n",
    "        # Move to next different element\n",
    "        i = i + diff\n",
    "        \n",
    "    # Resultant sequence to generate edge file\n",
    "    processed_sequence = turn_df['label'].to_list()\n",
    "    \n",
    "    file  = open('edges.txt','w')\n",
    "\n",
    "    # Create an empty list\n",
    "    edge_list = list()\n",
    "\n",
    "    # Create two variable node1 and node2 and set them to zero.\n",
    "    node1=node2=0\n",
    "\n",
    "    print(len(processed_sequence))\n",
    "    \n",
    "    # Iterate over resultant users sequences\n",
    "    for i in range(len(processed_sequence)):       \n",
    "        # For the first element\n",
    "        if node1==0:\n",
    "            # set node1 to the first element\n",
    "            node1=processed_sequence[i]\n",
    "\n",
    "        # For rest of the elements\n",
    "        else:\n",
    "\n",
    "            # Set the current element to node2\n",
    "            node2=processed_sequence[i]\n",
    "\n",
    "            # Append the edge node1, node2 to the edge list\n",
    "            edge_list.append((node1,node2))\n",
    "\n",
    "            # Print the edge\n",
    "            #print(\"{},{}\".format(node1,node2))\n",
    "\n",
    "            # Write the edge in the file\n",
    "            file.write(\"{},{}\\n\".format(node1,node2))\n",
    "\n",
    "            # Set the node1 as node2\n",
    "            node1=node2\n",
    "\n",
    "    # Close the file\n",
    "    file.close()\n",
    "\n",
    "    # Print the message\n",
    "    #print('Edge file is generate with name edges.txt')\n",
    "    return edge_list"
   ]
  },
  {
   "cell_type": "code",
   "execution_count": 98,
   "metadata": {},
   "outputs": [
    {
     "name": "stdout",
     "output_type": "stream",
     "text": [
      "Graph: [('luis', 'chus'), ('luis', 'pankaj'), ('luis', 'shashi'), ('shashi', 'chus'), ('shashi', 'pankaj'), ('pankaj', 'chus')]\n"
     ]
    },
    {
     "data": {
      "image/png": "[encoded data removed]",
      "text/plain": [
       "<Figure size 432x288 with 1 Axes>"
      ]
     },
     "metadata": {},
     "output_type": "display_data"
    }
   ],
   "source": [
    "speak_beh = {}\n",
    "for item in chart:\n",
    "    speak_beh[item[0]] = item[1]\n",
    "drawNetwork(edge_list,speak_beh)"
   ]
  },
  {
   "cell_type": "code",
   "execution_count": 97,
   "metadata": {},
   "outputs": [],
   "source": [
    "def drawNetwork(edge_list,sp_beh):\n",
    "    # Compute average speaking time\n",
    "    sp_avg = sum(sp_beh.values())/float(len(sp_beh.values()))\n",
    "\n",
    "    total_edges = len(edge_list)\n",
    "    one_edge_size = 10.0/total_edges\n",
    "    \n",
    "    # Create an empty graph using networkx library\n",
    "    G = nx.Graph()\n",
    "\n",
    "    # Iterate over edge list\n",
    "    for edge in edge_list:\n",
    "    # Check if the current edge already exist or not\n",
    "        if G.has_edge(edge[0],edge[1]):\n",
    "            # Get the weight of that edge\n",
    "            w = G[edge[0]][edge[1]]['weight']\n",
    "\n",
    "            # Remove it from the graph\n",
    "            G.remove_edge(edge[0],edge[1])\n",
    "\n",
    "            # Add it again with updated weight\n",
    "            G.add_edge(edge[0],edge[1],weight=w+2)\n",
    "\n",
    "        else:\n",
    "\n",
    "            # If edge doesn't exist in the graph then add it with weight .5\n",
    "            G.add_edge(edge[0],edge[1],weight=1)\n",
    "\n",
    "    print('Graph:',G.edges())\n",
    "    # Layout for showing the network\n",
    "    pos = nx.spring_layout(G)\n",
    "\n",
    "    # Get the edges from the graph\n",
    "    edges = G.edges()\n",
    "\n",
    "    # Get the weight for every edge\n",
    "    weights = [G[u][v]['weight']*one_edge_size for u,v in edges]\n",
    "\n",
    "    # Generate the colormap for the each node on the basis of their speaking time\n",
    "    color_map = []\n",
    "\n",
    "    sizes=[]\n",
    "    labels = []\n",
    "    \n",
    "    # iterate for each node in the graph\n",
    "    for node in G:\n",
    "        size = sp_beh[node]\n",
    "        sizes.append( 100 * (size)*100)\n",
    "        labels.append(node)\n",
    "\n",
    "  \n",
    "    # Draw the network\n",
    "    nx.draw(G, pos,node_size = sizes,width=weights,with_labels=True)\n",
    "    # Show the network\n",
    "    plt.tight_layout()\n",
    "    plt.savefig('phd_meet.png')\n",
    "    plt.show()"
   ]
  },
  {
   "cell_type": "markdown",
   "metadata": {},
   "source": [
    "# Feature Extraction for 30 seconds window\n",
    "This part of the code will extract features from the VAD results. Following features are extracted for each participant\n",
    "* speaking time\n",
    "* turn taking\n",
    "* overlapping time\n"
   ]
  },
  {
   "cell_type": "code",
   "execution_count": 34,
   "metadata": {},
   "outputs": [],
   "source": [
    "def verbalFeatures(anno,window_size='30S'):\n",
    "    chart = anno.chart(percent=True)\n",
    "    labels = [i[0] for i in chart]\n",
    "    timelines = {}\n",
    "    for label in labels:\n",
    "        timelines[label] = anno.label_timeline(label)   \n",
    "    df = pd.DataFrame(columns=['start','end','label'])\n",
    "    for segment, _, label in all_an.itertracks(yield_label=True):\n",
    "        df = df.append({'start':segment.start,'end':segment.end,'label':label},ignore_index=True)\n",
    "    df['duration'] = df['end'] - df['start']\n",
    "    df['start'] = pd.to_datetime(df['start'], unit='s')\n",
    "    df['end'] = pd.to_datetime(df['end'], unit='s')\n",
    "    # Setting the index\n",
    "    df = df.set_index(pd.DatetimeIndex(df['start']))\n",
    "    \n",
    "    columns=['frame']\n",
    "    \n",
    "    for label in labels:\n",
    "        col_name = label+'_speak'\n",
    "        columns.append(col_name)\n",
    "        \n",
    "    for label in labels:\n",
    "        col_name = label+'_turns'\n",
    "        columns.append(col_name)\n",
    "    \n",
    "    final = pd.DataFrame()  \n",
    "    # End time to stop loop\n",
    "    end_time = df.iloc[-1,0]\n",
    "    start_time = df.iloc[0,0]\n",
    "       \n",
    "    frame_no = 1\n",
    "    cur_ts = start_time\n",
    "    \n",
    "    # Creating time delta from specified time window\n",
    "    time_delta = pd.to_timedelta(window_size)\n",
    "    \n",
    "    frame_no = 1\n",
    "    \n",
    "    while cur_ts < end_time:\n",
    "        # Computing the end of timewindow\n",
    "        next_ts = cur_ts + time_delta\n",
    "        \n",
    "        #print('Frame:',frame_no)\n",
    "\n",
    "        # Getting data between two timestamps\n",
    "        temp_speech_df = df.between_time(datetime.datetime.time(cur_ts),datetime.datetime.time(next_ts),include_start=True,include_end=False)\n",
    "\n",
    "        # Generate features out of the data\n",
    "        entry = extractFeatures(frame_no,labels,start_time,cur_ts,temp_speech_df)\n",
    "\n",
    "        # Adding the entry to the dataframe\n",
    "        final = final.append(entry,ignore_index=True)\n",
    "\n",
    "        # Moving starting timestamp to next time window\n",
    "        cur_ts = next_ts\n",
    "\n",
    "        frame_no += 1\n",
    "        \n",
    "    return final\n",
    "\n",
    "def extractFeatures(frame,labels,start_time,timestamp,speech_df):  \n",
    "    speak_time = {}\n",
    "    for label in labels:\n",
    "        speak_time[label] = 0\n",
    "        us = speech_df.loc[speech_df['label']==label,:]\n",
    "        speak_time[label] = us.duration.sum()\n",
    "\n",
    "    # String to store the speaking sequence\n",
    "    speaking_sequence=\"\"\n",
    "\n",
    "    # Speaking sequence\n",
    "    sequence = speech_df['label'].tolist()\n",
    "   \n",
    "    result = {'frame':frame}   \n",
    "    for label in labels:\n",
    "        speak_label = label + '_speak'\n",
    "        result[speak_label] = speak_time[label]  \n",
    "    # For computing turn-taking  \n",
    "    turn_df = pd.DataFrame(columns=['label','conti_frequency'])\n",
    "\n",
    "    # This function will count the number of continuous occurence\n",
    "    def count_conti_occurence(index):\n",
    "\n",
    "        # Set count to 0\n",
    "        count=0\n",
    "\n",
    "        # Starts from the given index\n",
    "        j = index\n",
    "\n",
    "        # Loop to iterate over the users sequence\n",
    "        while j<len(sequence):\n",
    "\n",
    "            # Increase the count if the element at given index (parameter) is same as the iterated element\n",
    "            if sequence[j] == sequence[index]:\n",
    "                count +=1\n",
    "\n",
    "            # If mismatch found, break the loop\n",
    "            else:\n",
    "                break\n",
    "\n",
    "            # Increases j\n",
    "            j +=1\n",
    "\n",
    "        # Return number of count for sequence[index] and index of first next occurence of different element.\n",
    "        return count,(j-index)\n",
    "\n",
    "    # Set i to 0 for the Loop\n",
    "    i = 0\n",
    "\n",
    "    # Iterate for entire sequence of users\n",
    "    while i < len(sequence):\n",
    "\n",
    "        # Call count_conti_occurence() function\n",
    "        count,diff = count_conti_occurence(i)\n",
    "\n",
    "\n",
    "        # Add continuous frequency of current user (sequence[i]) to the dataframe\n",
    "        turn_df = turn_df.append({'label':sequence[i],'conti_frequency':count},ignore_index=True)\n",
    "\n",
    "\n",
    "        # Move to next different element\n",
    "        i = i + diff\n",
    "    \n",
    "    for label in labels:\n",
    "        turn_label = label + '_turns'\n",
    "        turns = turn_df.loc[turn_df['label']==label,:]\n",
    "        \n",
    "        result[turn_label] = turns.shape[0]\n",
    "    \n",
    "    \n",
    "    \n",
    "    anno = Annotation()\n",
    "    for index, record in speech_df.iterrows():      \n",
    "        start = (record['start'] - start_time).total_seconds()       \n",
    "        end = (record['end'] - start_time).total_seconds()\n",
    "        anno[Segment(start, end), '_'] = record['label']\n",
    "        \n",
    "    for label1 in labels:\n",
    "        #print('Label:',label1)\n",
    "        overlap_label = label1+'_overlap'\n",
    "        overlap_time = 0\n",
    "        for label2 in labels:\n",
    "            if label1 != label2:\n",
    "                #print('-->',label2)\n",
    "                label1_timeline = anno.label_timeline(label1)\n",
    "                label2_timeline = anno.label_timeline(label2)\n",
    "                \n",
    "                for seg1,seg2 in label1_timeline.co_iter(label2_timeline):\n",
    "                    #print('=====>',seg1,seg2,)\n",
    "                    #print('      ',(seg1 & seg2).duration)\n",
    "                    overlap_time += (seg1 & seg2).duration\n",
    "        result[overlap_label] = overlap_time\n",
    "    \n",
    "    return result            "
   ]
  },
  {
   "cell_type": "code",
   "execution_count": 35,
   "metadata": {},
   "outputs": [],
   "source": [
    "f = verbalFeatures(all_an)"
   ]
  },
  {
   "cell_type": "code",
   "execution_count": 36,
   "metadata": {},
   "outputs": [
    {
     "data": {
      "text/html": [
       "<div>\n",
       "<style scoped>\n",
       "    .dataframe tbody tr th:only-of-type {\n",
       "        vertical-align: middle;\n",
       "    }\n",
       "\n",
       "    .dataframe tbody tr th {\n",
       "        vertical-align: top;\n",
       "    }\n",
       "\n",
       "    .dataframe thead th {\n",
       "        text-align: right;\n",
       "    }\n",
       "</style>\n",
       "<table border=\"1\" class=\"dataframe\">\n",
       "  <thead>\n",
       "    <tr style=\"text-align: right;\">\n",
       "      <th></th>\n",
       "      <th>chus_overlap</th>\n",
       "      <th>chus_speak</th>\n",
       "      <th>chus_turns</th>\n",
       "      <th>frame</th>\n",
       "      <th>luis_overlap</th>\n",
       "      <th>luis_speak</th>\n",
       "      <th>luis_turns</th>\n",
       "      <th>pankaj_overlap</th>\n",
       "      <th>pankaj_speak</th>\n",
       "      <th>pankaj_turns</th>\n",
       "      <th>shashi_overlap</th>\n",
       "      <th>shashi_speak</th>\n",
       "      <th>shashi_turns</th>\n",
       "    </tr>\n",
       "  </thead>\n",
       "  <tbody>\n",
       "    <tr>\n",
       "      <th>0</th>\n",
       "      <td>0.00</td>\n",
       "      <td>0.00</td>\n",
       "      <td>0.0</td>\n",
       "      <td>1.0</td>\n",
       "      <td>2.34</td>\n",
       "      <td>20.58</td>\n",
       "      <td>4.0</td>\n",
       "      <td>1.53</td>\n",
       "      <td>1.98</td>\n",
       "      <td>1.0</td>\n",
       "      <td>0.81</td>\n",
       "      <td>1.65</td>\n",
       "      <td>3.0</td>\n",
       "    </tr>\n",
       "    <tr>\n",
       "      <th>1</th>\n",
       "      <td>0.09</td>\n",
       "      <td>0.75</td>\n",
       "      <td>1.0</td>\n",
       "      <td>2.0</td>\n",
       "      <td>0.00</td>\n",
       "      <td>23.97</td>\n",
       "      <td>1.0</td>\n",
       "      <td>0.00</td>\n",
       "      <td>0.81</td>\n",
       "      <td>1.0</td>\n",
       "      <td>0.09</td>\n",
       "      <td>0.81</td>\n",
       "      <td>1.0</td>\n",
       "    </tr>\n",
       "    <tr>\n",
       "      <th>2</th>\n",
       "      <td>0.00</td>\n",
       "      <td>0.00</td>\n",
       "      <td>0.0</td>\n",
       "      <td>3.0</td>\n",
       "      <td>0.00</td>\n",
       "      <td>24.75</td>\n",
       "      <td>1.0</td>\n",
       "      <td>0.00</td>\n",
       "      <td>0.00</td>\n",
       "      <td>0.0</td>\n",
       "      <td>0.00</td>\n",
       "      <td>0.45</td>\n",
       "      <td>1.0</td>\n",
       "    </tr>\n",
       "    <tr>\n",
       "      <th>3</th>\n",
       "      <td>0.00</td>\n",
       "      <td>0.00</td>\n",
       "      <td>0.0</td>\n",
       "      <td>4.0</td>\n",
       "      <td>0.00</td>\n",
       "      <td>16.08</td>\n",
       "      <td>2.0</td>\n",
       "      <td>0.00</td>\n",
       "      <td>0.00</td>\n",
       "      <td>0.0</td>\n",
       "      <td>0.00</td>\n",
       "      <td>0.51</td>\n",
       "      <td>1.0</td>\n",
       "    </tr>\n",
       "    <tr>\n",
       "      <th>4</th>\n",
       "      <td>0.00</td>\n",
       "      <td>0.00</td>\n",
       "      <td>0.0</td>\n",
       "      <td>5.0</td>\n",
       "      <td>0.99</td>\n",
       "      <td>10.71</td>\n",
       "      <td>2.0</td>\n",
       "      <td>0.00</td>\n",
       "      <td>0.00</td>\n",
       "      <td>0.0</td>\n",
       "      <td>0.99</td>\n",
       "      <td>3.12</td>\n",
       "      <td>1.0</td>\n",
       "    </tr>\n",
       "  </tbody>\n",
       "</table>\n",
       "</div>"
      ],
      "text/plain": [
       "   chus_overlap  chus_speak  chus_turns  frame  luis_overlap  luis_speak  \\\n",
       "0          0.00        0.00         0.0    1.0          2.34       20.58   \n",
       "1          0.09        0.75         1.0    2.0          0.00       23.97   \n",
       "2          0.00        0.00         0.0    3.0          0.00       24.75   \n",
       "3          0.00        0.00         0.0    4.0          0.00       16.08   \n",
       "4          0.00        0.00         0.0    5.0          0.99       10.71   \n",
       "\n",
       "   luis_turns  pankaj_overlap  pankaj_speak  pankaj_turns  shashi_overlap  \\\n",
       "0         4.0            1.53          1.98           1.0            0.81   \n",
       "1         1.0            0.00          0.81           1.0            0.09   \n",
       "2         1.0            0.00          0.00           0.0            0.00   \n",
       "3         2.0            0.00          0.00           0.0            0.00   \n",
       "4         2.0            0.00          0.00           0.0            0.99   \n",
       "\n",
       "   shashi_speak  shashi_turns  \n",
       "0          1.65           3.0  \n",
       "1          0.81           1.0  \n",
       "2          0.45           1.0  \n",
       "3          0.51           1.0  \n",
       "4          3.12           1.0  "
      ]
     },
     "execution_count": 36,
     "metadata": {},
     "output_type": "execute_result"
    }
   ],
   "source": [
    "f.head()"
   ]
  },
  {
   "cell_type": "markdown",
   "metadata": {},
   "source": [
    "# OpenFace Feature Analysis\n",
    "The following code analyses the OpenFace features extracted for each participants using OpenFace toolkit."
   ]
  },
  {
   "cell_type": "code",
   "execution_count": 38,
   "metadata": {},
   "outputs": [],
   "source": [
    "of = pd.read_csv('Video_11_1.csv')"
   ]
  },
  {
   "cell_type": "code",
   "execution_count": 40,
   "metadata": {},
   "outputs": [
    {
     "name": "stdout",
     "output_type": "stream",
     "text": [
      "Instance for Shashi: 75150\n"
     ]
    }
   ],
   "source": [
    "# Extracting shashi facial features only (because we have ground truth for speaking for that)\n",
    "shashi_of = of.loc[of.face_id == 0,:]\n",
    "print('Instance for Shashi:',shashi_of.shape[0])"
   ]
  },
  {
   "cell_type": "code",
   "execution_count": null,
   "metadata": {},
   "outputs": [],
   "source": []
  }
 ],
 "metadata": {
  "kernelspec": {
   "display_name": "Python 3",
   "language": "python",
   "name": "python3"
  },
  "language_info": {
   "codemirror_mode": {
    "name": "ipython",
    "version": 3
   },
   "file_extension": ".py",
   "mimetype": "text/x-python",
   "name": "python",
   "nbconvert_exporter": "python",
   "pygments_lexer": "ipython3",
   "version": "3.8.5"
  }
 },
 "nbformat": 4,
 "nbformat_minor": 4
}
